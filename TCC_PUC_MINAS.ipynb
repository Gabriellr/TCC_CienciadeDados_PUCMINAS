{
 "cells": [
  {
   "cell_type": "markdown",
   "id": "c7084efc",
   "metadata": {},
   "source": [
    "# TCC PUC - Ciência de Dados e Big Data"
   ]
  },
  {
   "cell_type": "markdown",
   "id": "07dea4e7",
   "metadata": {},
   "source": [
    "# PRÁTICA  DE ATIVIDADE FÍSICA ENTRE ADULTOS BRASILEIROS NAS CAPITAIS "
   ]
  },
  {
   "cell_type": "markdown",
   "id": "f5d1f30b",
   "metadata": {},
   "source": [
    "# 1. Definição do Problema"
   ]
  },
  {
   "cell_type": "markdown",
   "id": "ff041dfa",
   "metadata": {},
   "source": [
    "Descrever a prática de atividades fisica no tempo livre nas capitais do Brasil entre adultos brasileiros no periodo de 2016 a  2019. Será feita uma análise descritiva mais profunda no ano de 2019 com objetivo de encontrar atibutos com relevancia pra identificar e classificar quais tipo de atividade fisica e praticada tempo genero e idade.\n",
    "\n",
    "Os dados serão tratados e trabalhados e posteriormente aplicaremos algoritmos Machine Learning para verificar quais atributos tem maior relevancia na pratica de atividade fisica. "
   ]
  },
  {
   "cell_type": "markdown",
   "id": "fd4b8163",
   "metadata": {},
   "source": [
    "# Importando as bibliotecas"
   ]
  },
  {
   "cell_type": "code",
   "execution_count": null,
   "id": "00e88c74",
   "metadata": {},
   "outputs": [],
   "source": [
    "#Importação da biblioteca pandas\n",
    "import pandas as pd\n",
    "import numpy as np\n",
    "\n",
    "import matplotlib.pyplot as plt\n",
    "import seaborn as sns\n",
    "sns.set_style('whitegrid')\n",
    "\n",
    "from datetime import date\n",
    "from collections import Counter\n",
    "\n",
    "from sklearn.model_selection import train_test_split\n",
    "from sklearn.metrics import mean_squared_error, mean_absolute_error\n",
    "\n",
    "import seaborn as sb\n",
    "from matplotlib import pyplot\n",
    "import statsmodels.api as sm\n",
    "import math\n",
    "\n",
    "import operator\n",
    "\n",
    "#Importação das funções para as medidas de avaliação dos algoritmos\n",
    "from sklearn.metrics import accuracy_score, classification_report\n",
    "from sklearn.naive_bayes import GaussianNB\n",
    "\n",
    "from sklearn.preprocessing import LabelEncoder\n",
    "from sklearn.metrics import confusion_matrix, classification_report\n",
    "from sklearn.metrics import ConfusionMatrixDisplay\n",
    "\n",
    "from sklearn.tree import DecisionTreeClassifier\n",
    "from sklearn.tree import plot_tree\n",
    "import warnings\n",
    "warnings.filterwarnings('ignore')"
   ]
  },
  {
   "cell_type": "markdown",
   "id": "4fcde6e9",
   "metadata": {},
   "source": [
    "# 2. Importando os Quatro arquivos XLS utilizando a função read_excel do tipo (parsing) para conversão dos arquivos em Dataframes"
   ]
  },
  {
   "cell_type": "code",
   "execution_count": null,
   "id": "7c16a93d",
   "metadata": {},
   "outputs": [],
   "source": [
    "##leitura dos 4 arquivos  XLS que contém os dados para os dataframes;\n",
    "df_atividade_2016= pd.read_excel('Vigitel-2016-peso-rake.xls')\n",
    "df_atividade_2017= pd.read_excel('Vigitel-2017-peso-rake.xls')\n",
    "df_atividade_2018= pd.read_excel('Vigitel-2018-peso-rake.xls')\n",
    "df_atividade_2019= pd.read_excel('Vigitel-2019-peso-rake.xls')\n"
   ]
  },
  {
   "cell_type": "markdown",
   "id": "8bd5be2d",
   "metadata": {},
   "source": [
    "# 3. Concatenando todos os arquivos em um só"
   ]
  },
  {
   "cell_type": "code",
   "execution_count": null,
   "id": "029b8eda",
   "metadata": {},
   "outputs": [],
   "source": [
    "# juntando os dataframes para um unico dataframe\n",
    "df_atividade_junt = pd.merge(df_atividade_2016, df_atividade_2017, how = 'outer')"
   ]
  },
  {
   "cell_type": "code",
   "execution_count": null,
   "id": "4af33346",
   "metadata": {},
   "outputs": [],
   "source": [
    "# juntando os dataframes para um unico dataframe\n",
    "df_atividade_junt2 = pd.merge(df_atividade_junt, df_atividade_2018, how = 'outer')"
   ]
  },
  {
   "cell_type": "code",
   "execution_count": null,
   "id": "a429fdf8",
   "metadata": {},
   "outputs": [],
   "source": [
    "# juntando os dataframes para um unico dataframe\n",
    "df_atividade = pd.merge(df_atividade_junt2, df_atividade_2019, how = 'outer')"
   ]
  },
  {
   "cell_type": "code",
   "execution_count": null,
   "id": "c9e22f3c",
   "metadata": {},
   "outputs": [],
   "source": [
    "#informações do dataframe df_atividade\n",
    "df_atividade.info()"
   ]
  },
  {
   "cell_type": "code",
   "execution_count": null,
   "id": "d47af2ed",
   "metadata": {},
   "outputs": [],
   "source": [
    "#identificação das opções da coluna cidade do dataframe df_atividade\n",
    "df_atividade['cidade'].unique()"
   ]
  },
  {
   "cell_type": "code",
   "execution_count": null,
   "id": "437db725",
   "metadata": {},
   "outputs": [],
   "source": [
    "#Exibe as 1001 primeiras linhas\n",
    "df_atividade.head(1001)"
   ]
  },
  {
   "cell_type": "code",
   "execution_count": null,
   "id": "c094e11b",
   "metadata": {},
   "outputs": [],
   "source": [
    "#Informações do dataframe df_atividade\n",
    "df_atividade.info()"
   ]
  },
  {
   "cell_type": "markdown",
   "id": "4cfdfc6e",
   "metadata": {},
   "source": [
    "# Verificando se existe campos nulos no Dataframe"
   ]
  },
  {
   "cell_type": "code",
   "execution_count": null,
   "id": "adc74ef7",
   "metadata": {},
   "outputs": [],
   "source": [
    "#Verificação dos valores nulos no dataframe df_atividade\n",
    "df_atividade.isnull().sum()"
   ]
  },
  {
   "cell_type": "markdown",
   "id": "d25d143a",
   "metadata": {},
   "source": [
    "# Tratando Campos nulos"
   ]
  },
  {
   "cell_type": "code",
   "execution_count": null,
   "id": "d9d8825d",
   "metadata": {},
   "outputs": [],
   "source": [
    "#trata valor nulo dataframe\n",
    "df_atividade= df_atividade.drop(df_atividade.index[0])\n",
    "df_atividade = df_atividade.fillna(0)"
   ]
  },
  {
   "cell_type": "code",
   "execution_count": null,
   "id": "0df0c203",
   "metadata": {},
   "outputs": [],
   "source": [
    "# verifica o tratamento do nulo\n",
    "df_atividade.isnull().sum()\n"
   ]
  },
  {
   "cell_type": "markdown",
   "id": "509313ee",
   "metadata": {},
   "source": [
    "# Exibe nomes das colunas Dataframe"
   ]
  },
  {
   "cell_type": "code",
   "execution_count": null,
   "id": "93193345",
   "metadata": {},
   "outputs": [],
   "source": [
    "#Exibe todas as colunas do dataframe df_atividades\n",
    "df_atividade.columns.values"
   ]
  },
  {
   "cell_type": "markdown",
   "id": "d3fbe854",
   "metadata": {},
   "source": [
    "# 3. Tratamento dos Dados"
   ]
  },
  {
   "cell_type": "code",
   "execution_count": null,
   "id": "4dcbca3e",
   "metadata": {},
   "outputs": [],
   "source": [
    "# lista das colunas que vão ser usadas ColunasSelecionada \n",
    "ColunasSelecionada = ['ordem',  'ano', 'cidade', 'civil','q6', 'q7', 'q8a', 'q9', 'q11', 'q42', 'q43a', 'q44', 'q45','q46', 'q69']"
   ]
  },
  {
   "cell_type": "code",
   "execution_count": null,
   "id": "5f50a8e7",
   "metadata": {},
   "outputs": [],
   "source": [
    "#Filtrar para o dataframe novo somente as colunas que foram selecionadas\n",
    "df_atividadeSelecionadas = df_atividade.filter(items=ColunasSelecionada )"
   ]
  },
  {
   "cell_type": "code",
   "execution_count": null,
   "id": "1ea44f4f",
   "metadata": {},
   "outputs": [],
   "source": [
    "#Exibe Dataframe df_atividadeSelecionadas\n",
    "\n",
    "df_atividadeSelecionadas.head()\n"
   ]
  },
  {
   "cell_type": "code",
   "execution_count": null,
   "id": "35485ec4",
   "metadata": {},
   "outputs": [],
   "source": [
    "#Renomeia as coluna \n",
    "df_atividadeSelecionadas.rename(columns={'q6':'idade','q7':'sexo','q8a':'grau_escolaridade','q9':'peso','q11':'altura','q42':'pratica_exercicio','q43a': 'tipo_exercicio','q44':'pratica_exercicio_1_vez_na_semana', 'q45':'frequencia_exercicio', 'q46':'duracao_exercicio', 'q69':'cor'}, inplace =True)"
   ]
  },
  {
   "cell_type": "markdown",
   "id": "c681729a",
   "metadata": {},
   "source": [
    "Cria coluna com o calculo IMC dataframe df_atividadeSelecionadas"
   ]
  },
  {
   "cell_type": "code",
   "execution_count": null,
   "id": "a9fa768b",
   "metadata": {},
   "outputs": [],
   "source": [
    "#criar coluna com o calculo IMC dataframe df_atividadeSelecionadas\n",
    "df_atividadeSelecionadas['imc'] = df_atividadeSelecionadas.apply(\n",
    "    lambda row: round(row.peso / (((row.altura * row.altura)/1000)*0.1),0), axis=1)\n",
    "    "
   ]
  },
  {
   "cell_type": "markdown",
   "id": "c2c001ae",
   "metadata": {},
   "source": [
    "Dataframe df_censoSelecionadas2019Final vai ser usado no Treinamento"
   ]
  },
  {
   "cell_type": "code",
   "execution_count": null,
   "id": "9d81931a",
   "metadata": {},
   "outputs": [],
   "source": [
    "df_censoSelecionadas2019FinalTreinamento = df_atividadeSelecionadas.loc[df_atividadeSelecionadas[\"ano\"]== 2019]\n",
    "df_censoSelecionadas2019Final = df_atividadeSelecionadas.loc[df_atividadeSelecionadas[\"ano\"]== 2019]"
   ]
  },
  {
   "cell_type": "code",
   "execution_count": null,
   "id": "a3d5471e",
   "metadata": {},
   "outputs": [],
   "source": [
    "df_censoSelecionadas2019FinalTreinamento.head()"
   ]
  },
  {
   "cell_type": "code",
   "execution_count": null,
   "id": "ce70a868",
   "metadata": {},
   "outputs": [],
   "source": [
    "#formate a coluna pratica exercicio 1 para sim e 2 para não \n",
    "df_atividadeSelecionadas['pratica_exercicio'].replace(1,'sim', inplace =True)\n",
    "df_atividadeSelecionadas['pratica_exercicio'].replace(2,'nao', inplace =True)\n",
    "\n",
    "#formate a coluna tipo exercicio\n",
    "#1\tcaminhada (não vale deslocamento para trabalho)\n",
    "#2\tcaminhada em esteira\n",
    "#3\tcorrida (cooper)\n",
    "#4\tcorrida em esteira\n",
    "#5\tmusculação\n",
    "#6\tginástica aeróbica (spinning, step, jump)\n",
    "#7\thidroginástica\n",
    "#8\tginástica em geral (alongamento, pilates, ioga)\n",
    "#9\tnatação\n",
    "#10\tartes marciais e luta (jiu-jitsu, karatê, judô, boxe, muay thai, capoeira)\n",
    "#11\tbicicleta (inclui ergométrica)\n",
    "#12\tfutebol/futsal\n",
    "#13\tbasquetebol\n",
    "#14\tvoleibol/futevolei\n",
    "#15\ttênis\n",
    "#16\tdança (balé, dança de salão, dança do ventre)\n",
    "#17\toutros\n",
    "df_atividadeSelecionadas['tipo_exercicio'].replace(1,'caminhada (não vale deslocamento para trabalho)', inplace =True)\n",
    "df_atividadeSelecionadas['tipo_exercicio'].replace(2,'caminhada em esteira', inplace =True)\n",
    "df_atividadeSelecionadas['tipo_exercicio'].replace(3,'corrida (cooper)', inplace =True)\n",
    "df_atividadeSelecionadas['tipo_exercicio'].replace(4,'corrida em esteira', inplace =True)\n",
    "df_atividadeSelecionadas['tipo_exercicio'].replace(5,'musculação', inplace =True)\n",
    "df_atividadeSelecionadas['tipo_exercicio'].replace(6,'ginástica aeróbica (spinning, step, jump)', inplace =True)\n",
    "df_atividadeSelecionadas['tipo_exercicio'].replace(7,'hidroginástica', inplace =True)\n",
    "df_atividadeSelecionadas['tipo_exercicio'].replace(8,'ginástica em geral (alongamento, pilates, ioga)', inplace =True)\n",
    "df_atividadeSelecionadas['tipo_exercicio'].replace(9,'natação', inplace =True)\n",
    "df_atividadeSelecionadas['tipo_exercicio'].replace(10,'artes marciais e luta (jiu-jitsu, karatê, judô, boxe, muay thai, capoeira)', inplace =True)\n",
    "df_atividadeSelecionadas['tipo_exercicio'].replace(11,'bicicleta (inclui ergométrica)', inplace =True)\n",
    "df_atividadeSelecionadas['tipo_exercicio'].replace(12,'futebol/futsal', inplace =True)\n",
    "df_atividadeSelecionadas['tipo_exercicio'].replace(13,'basquetebol', inplace =True)\n",
    "df_atividadeSelecionadas['tipo_exercicio'].replace(14,'voleibol/futevolei', inplace =True)\n",
    "df_atividadeSelecionadas['tipo_exercicio'].replace(15,'tênis', inplace =True)\n",
    "df_atividadeSelecionadas['tipo_exercicio'].replace(16,'dança (balé, dança de salão, dança do ventre)', inplace =True)\n",
    "df_atividadeSelecionadas['tipo_exercicio'].replace(17,'outros', inplace =True)"
   ]
  },
  {
   "cell_type": "code",
   "execution_count": null,
   "id": "bc5912a6",
   "metadata": {},
   "outputs": [],
   "source": [
    "#formate a coluna grau escolaridade\n",
    "#1\tcurso primário\n",
    "#2\tadmissão\n",
    "#3\tcurso ginasial ou ginásio\n",
    "#4\t1º grau ou fundamental ou supletivo de 1º grau\n",
    "#5\t2º grau ou colégio ou técnico ou normal ou científico científico ou ensino médio ou supletivo de 2º grau\n",
    "#6\t3º grau ou curso superior\n",
    "#7\tpós-graduação (especialização, mestrado, doutorado)\n",
    "#8\tnunca estudou\n",
    "#777\tnão sabe\n",
    "#888\tnão quis responder\n",
    "\n",
    "df_atividadeSelecionadas['grau_escolaridade'].replace(1,'curso primário', inplace =True)\n",
    "df_atividadeSelecionadas['grau_escolaridade'].replace(2,'admissão', inplace =True)\n",
    "df_atividadeSelecionadas['grau_escolaridade'].replace(3,'curso ginasial ou ginásio', inplace =True)\n",
    "df_atividadeSelecionadas['grau_escolaridade'].replace(4,'1º grau ou fundamental ou supletivo de 1º grau', inplace =True)\n",
    "df_atividadeSelecionadas['grau_escolaridade'].replace(5,'2º grau ou colégio ou técnico ou normal ou científico científico ou ensino médio ou supletivo de 2º grau', inplace =True)\n",
    "df_atividadeSelecionadas['grau_escolaridade'].replace(6,'3º grau ou curso superior', inplace =True)\n",
    "df_atividadeSelecionadas['grau_escolaridade'].replace(7,'pós-graduação (especialização, mestrado, doutorado)', inplace =True)\n",
    "df_atividadeSelecionadas['grau_escolaridade'].replace(8,'nunca estudou', inplace =True)\n",
    "df_atividadeSelecionadas['grau_escolaridade'].replace(777,'não sabe', inplace =True)\n",
    "df_atividadeSelecionadas['grau_escolaridade'].replace(888,'não quis responder', inplace =True)"
   ]
  },
  {
   "cell_type": "code",
   "execution_count": null,
   "id": "dd1d56d1",
   "metadata": {},
   "outputs": [],
   "source": [
    "#formate a coluna quantas vezes semana' 1 para sim e 2 para não\n",
    "df_atividadeSelecionadas['pratica_exercicio_1_vez_na_semana'].replace(1,'sim', inplace =True)\n",
    "df_atividadeSelecionadas['pratica_exercicio_1_vez_na_semana'].replace(2,'nao', inplace =True)\n",
    "\n",
    "#formate a coluna Estado Civil\n",
    "\n",
    "df_atividadeSelecionadas['civil'].replace(1,'solteiro', inplace =True)\n",
    "df_atividadeSelecionadas['civil'].replace(2,'casado legalmente', inplace =True)\n",
    "df_atividadeSelecionadas['civil'].replace(3,'tem união estável há mais de seis meses', inplace =True)\n",
    "df_atividadeSelecionadas['civil'].replace(4,'viúvo', inplace =True)\n",
    "df_atividadeSelecionadas['civil'].replace(5,'separado ou divorciado', inplace =True)\n",
    "df_atividadeSelecionadas['civil'].replace(888,'não quis informar', inplace =True)\n",
    "\n",
    "\n",
    "#formate a coluna frequencia exercicio\n",
    "df_atividadeSelecionadas['frequencia_exercicio'].replace(1,'1 a 2 dias por semana', inplace =True)\n",
    "df_atividadeSelecionadas['frequencia_exercicio'].replace(2,'3 a 4 dias por semana', inplace =True)\n",
    "df_atividadeSelecionadas['frequencia_exercicio'].replace(3,'5 a 6 dias por semana', inplace =True)\n",
    "df_atividadeSelecionadas['frequencia_exercicio'].replace(4,'todos os dias ( inclusive sábado e domingo)', inplace =True)\n",
    "\n",
    "\n",
    "#formate a coluna duracao exercicio\n",
    "df_atividadeSelecionadas['duracao_exercicio'].replace(1,'menos que 10 minutos', inplace =True)\n",
    "df_atividadeSelecionadas['duracao_exercicio'].replace(2,'entre 10 e 19 minutos', inplace =True)\n",
    "df_atividadeSelecionadas['duracao_exercicio'].replace(3,'entre 20 e 29 minutos', inplace =True)\n",
    "df_atividadeSelecionadas['duracao_exercicio'].replace(4,'entre 30 e 39 minutos', inplace =True)\n",
    "df_atividadeSelecionadas['duracao_exercicio'].replace(5,'entre 40 e 49 minutos', inplace =True)\n",
    "df_atividadeSelecionadas['duracao_exercicio'].replace(6,'entre 50 e 59 minutos', inplace =True)\n",
    "df_atividadeSelecionadas['duracao_exercicio'].replace(7,'60 minutos ou mais', inplace =True)\n",
    "\n",
    "\n",
    "#formate a coluna cor\n",
    "df_atividadeSelecionadas['cor'].replace(1,'branca', inplace =True)\n",
    "df_atividadeSelecionadas['cor'].replace(2,'preta', inplace =True)\n",
    "df_atividadeSelecionadas['cor'].replace(3,'amarela', inplace =True)\n",
    "df_atividadeSelecionadas['cor'].replace(4,'parda', inplace =True)\n",
    "df_atividadeSelecionadas['cor'].replace(5,'indígena', inplace =True)\n",
    "df_atividadeSelecionadas['cor'].replace(80,'Morena', inplace =True)\n",
    "df_atividadeSelecionadas['cor'].replace(777,'não sabe', inplace =True)\n",
    "df_atividadeSelecionadas['cor'].replace(888,'não quis informar', inplace =True)\n"
   ]
  },
  {
   "cell_type": "code",
   "execution_count": null,
   "id": "28629059",
   "metadata": {},
   "outputs": [],
   "source": [
    "#formate a coluna quantas vezes semana' 1 para masculino e 2 para feminino\n",
    "df_atividadeSelecionadas['sexo'].replace(1,'masculino', inplace =True)\n",
    "df_atividadeSelecionadas['sexo'].replace(2,'feminino', inplace =True)"
   ]
  },
  {
   "cell_type": "markdown",
   "id": "0c22482b",
   "metadata": {},
   "source": [
    "# Visualização dos Tipos de cada Coluna"
   ]
  },
  {
   "cell_type": "code",
   "execution_count": null,
   "id": "3a8a32fe",
   "metadata": {},
   "outputs": [],
   "source": [
    "#Verifica o tipo do dados no Dataframe\n",
    "df_atividadeSelecionadas.info()"
   ]
  },
  {
   "cell_type": "markdown",
   "id": "4b1ed6cf",
   "metadata": {},
   "source": [
    "# Ajustando os Dados para os Formatos Corretos e Otimização dos Tipos de dados para economizar memoria"
   ]
  },
  {
   "cell_type": "code",
   "execution_count": null,
   "id": "586c1c46",
   "metadata": {},
   "outputs": [],
   "source": [
    "#Ajustando os Dados para os Formatos Corretos e Otimização dos Tipos de dados para economizar memoria\n",
    "\n",
    "df_atividadeSelecionadas.ordem   = df_atividadeSelecionadas.ordem.astype('int32')\n",
    "df_atividadeSelecionadas.ano     = df_atividadeSelecionadas.ano.astype('int32')\n",
    "df_atividadeSelecionadas.cidade  = df_atividadeSelecionadas.cidade.astype('int32')\n",
    "df_atividadeSelecionadas.civil  = df_atividadeSelecionadas.civil.astype('category')\n",
    "df_atividadeSelecionadas.idade  = df_atividadeSelecionadas.idade.astype('int32')\n",
    "df_atividadeSelecionadas.sexo   = df_atividadeSelecionadas.sexo.astype('category')\n",
    "df_atividadeSelecionadas.grau_escolaridade  = df_atividadeSelecionadas.grau_escolaridade.astype('category')\n",
    "df_atividadeSelecionadas.peso   = df_atividadeSelecionadas.peso.astype('float64')\n",
    "df_atividadeSelecionadas.altura = df_atividadeSelecionadas.altura.astype('int32')\n",
    "df_atividadeSelecionadas.pratica_exercicio  = df_atividadeSelecionadas.pratica_exercicio.astype('category')\n",
    "df_atividadeSelecionadas.tipo_exercicio     = df_atividadeSelecionadas.tipo_exercicio.astype('category')\n",
    "df_atividadeSelecionadas.pratica_exercicio_1_vez_na_semana = df_atividadeSelecionadas.pratica_exercicio_1_vez_na_semana.astype('category')\n",
    "df_atividadeSelecionadas.frequencia_exercicio = df_atividadeSelecionadas.frequencia_exercicio.astype('category')\n",
    "df_atividadeSelecionadas.duracao_exercicio = df_atividadeSelecionadas.duracao_exercicio.astype('category')\n",
    "df_atividadeSelecionadas.cor = df_atividadeSelecionadas.cor.astype('category')\n",
    "\n"
   ]
  },
  {
   "cell_type": "code",
   "execution_count": null,
   "id": "cb09fc86",
   "metadata": {},
   "outputs": [],
   "source": [
    "# Exibe os campos tratados\n",
    "df_atividadeSelecionadas.head()"
   ]
  },
  {
   "cell_type": "code",
   "execution_count": null,
   "id": "9d25ccdd",
   "metadata": {},
   "outputs": [],
   "source": [
    "#Visualização de Outliers\n",
    "sns.boxplot(x=df_atividadeSelecionadas['altura'])\n"
   ]
  },
  {
   "cell_type": "markdown",
   "id": "018ff6dc",
   "metadata": {},
   "source": [
    "# Obtém o Segundo Dataframe para ser usado com informações do ANO 2019"
   ]
  },
  {
   "cell_type": "code",
   "execution_count": null,
   "id": "0ec7fb1e",
   "metadata": {},
   "outputs": [],
   "source": [
    "#Tratar dados da Tabela Censo ano 2019 que vai ser usada para extrair informacões da Cidade como renda per capita, nome estado, Regiao etc...\n",
    "df_censo= pd.read_excel('Capitais_Censo.xls')"
   ]
  },
  {
   "cell_type": "code",
   "execution_count": null,
   "id": "3ddb74bd",
   "metadata": {},
   "outputs": [],
   "source": [
    "#exibe dados do segundo Dataframe df_censo demogradico\n",
    "df_censo.head()"
   ]
  },
  {
   "cell_type": "code",
   "execution_count": null,
   "id": "27b84388",
   "metadata": {},
   "outputs": [],
   "source": [
    "#Mostrar todas as colunas do dataframe df_censo demografico\n",
    "df_censo.columns.values"
   ]
  },
  {
   "cell_type": "markdown",
   "id": "9643ac5d",
   "metadata": {},
   "source": [
    "# Trata os dados do Dataset ColunasSelecionadaCenso"
   ]
  },
  {
   "cell_type": "code",
   "execution_count": null,
   "id": "3b623e0b",
   "metadata": {},
   "outputs": [],
   "source": [
    "#Criar lista das colunas que vão ser usadas Censo\n",
    "ColunasSelecionadaCenso = ['cidade', 'uf', 'capital', 'populacao estimada - pessoas [2021]', 'pib per capita', 'regiao', 'ano','Salario_medio_mensal']"
   ]
  },
  {
   "cell_type": "code",
   "execution_count": null,
   "id": "a9cb74cc",
   "metadata": {},
   "outputs": [],
   "source": [
    "#Filtra para o dataframe novo somente as colunas que foram selecionadas\n",
    "df_censoSelecionadas = df_censo.filter(items=ColunasSelecionadaCenso )"
   ]
  },
  {
   "cell_type": "code",
   "execution_count": null,
   "id": "eb55d375",
   "metadata": {},
   "outputs": [],
   "source": [
    "# Exibe linhas do Dataset\n",
    "df_censoSelecionadas.head()"
   ]
  },
  {
   "cell_type": "code",
   "execution_count": null,
   "id": "025d586c",
   "metadata": {},
   "outputs": [],
   "source": [
    "#Renomeia as coluna \n",
    "df_censoSelecionadas.rename(columns={'capital':'nome_capital', 'populacao estimada - pessoas [2021]': 'populacao_estimada_pessoas','pib per capita': 'pib_per_capita'}, inplace =True)\n"
   ]
  },
  {
   "cell_type": "code",
   "execution_count": null,
   "id": "7a8a0d1e",
   "metadata": {},
   "outputs": [],
   "source": [
    "df_censoSelecionadas.head()"
   ]
  },
  {
   "cell_type": "code",
   "execution_count": null,
   "id": "04a9d088",
   "metadata": {},
   "outputs": [],
   "source": [
    "#criar coluna com o calculo Salario dataframe df_censoSelecionadas\n",
    "df_censoSelecionadas['Salario'] = df_censoSelecionadas.apply(\n",
    "    lambda row: round ((row.Salario_medio_mensal * 998.00),0), axis=1)"
   ]
  },
  {
   "cell_type": "code",
   "execution_count": null,
   "id": "0462a10b",
   "metadata": {},
   "outputs": [],
   "source": [
    "#criar coluna com o calculo PIB dataframe df_censoSelecionadas\n",
    "df_censoSelecionadas['PIB'] = df_censoSelecionadas.apply(\n",
    "    lambda row: round ((row.pib_per_capita * row.populacao_estimada_pessoas),0), axis=1)"
   ]
  },
  {
   "cell_type": "code",
   "execution_count": null,
   "id": "0685877b",
   "metadata": {},
   "outputs": [],
   "source": [
    "#formata campo para flutuante\n",
    "\n",
    "pd.set_option('float_format', '{:.2f}'.format)"
   ]
  },
  {
   "cell_type": "code",
   "execution_count": null,
   "id": "77082132",
   "metadata": {},
   "outputs": [],
   "source": [
    "# Exibe linhas do Datase\n",
    "df_censoSelecionadas.head()"
   ]
  },
  {
   "cell_type": "code",
   "execution_count": null,
   "id": "53a05311",
   "metadata": {},
   "outputs": [],
   "source": [
    "df_censoSelecionadas.info()"
   ]
  },
  {
   "cell_type": "markdown",
   "id": "1f8b13f0",
   "metadata": {},
   "source": [
    "# Concatenando Dataframe 2019 em um só"
   ]
  },
  {
   "cell_type": "code",
   "execution_count": null,
   "id": "407bfe95",
   "metadata": {},
   "outputs": [],
   "source": [
    "##Unindo os datasets df_censoSelecionadas com df_atividadeSelecionada2019\n",
    "###\n",
    "###\n",
    "df_atividadeSelecionada2019 = df_atividadeSelecionadas.loc[df_atividadeSelecionadas[\"ano\"]== 2019]\n",
    "\n",
    "df_censoSelecionadas2019 = pd.merge(df_atividadeSelecionada2019, df_censoSelecionadas, how = 'outer')\n",
    "\n",
    "df_censoSelecionadas2019Final = pd.merge(df_censoSelecionadas2019Final, df_censoSelecionadas, how = 'outer')\n"
   ]
  },
  {
   "cell_type": "code",
   "execution_count": null,
   "id": "7131a953",
   "metadata": {},
   "outputs": [],
   "source": [
    "# Exibe linhas do Dataset\n",
    "df_atividadeSelecionada2019.head()"
   ]
  },
  {
   "cell_type": "markdown",
   "id": "959d2b4d",
   "metadata": {},
   "source": [
    "# 4. Análise e Exploração dos Dados "
   ]
  },
  {
   "cell_type": "markdown",
   "id": "dc381c79",
   "metadata": {},
   "source": [
    "Exibindo a dimensão do DataFrame. Logo percebe-se que teremos 211081 linhas e 16 colunas."
   ]
  },
  {
   "cell_type": "code",
   "execution_count": null,
   "id": "a130c4f3",
   "metadata": {},
   "outputs": [],
   "source": [
    "df_atividadeSelecionadas.shape"
   ]
  },
  {
   "cell_type": "code",
   "execution_count": null,
   "id": "50936d03",
   "metadata": {},
   "outputs": [],
   "source": [
    "#verifica o total se pratica ou não Atividades Fisicas\n",
    "pequisa = Counter(df_atividadeSelecionadas['pratica_exercicio'])\n",
    "pequisa "
   ]
  },
  {
   "cell_type": "markdown",
   "id": "c37d9096",
   "metadata": {},
   "source": [
    "Exibe o valor total dos entrevistados por Ano"
   ]
  },
  {
   "cell_type": "code",
   "execution_count": null,
   "id": "a8695ba1",
   "metadata": {},
   "outputs": [],
   "source": [
    "#Plotagem das informações numero Total de pesquisa ANO\n",
    "plt.figure(figsize=(20,4))\n",
    "plt.subplot(131)\n",
    "sns.countplot(x= 'ano', data = df_atividadeSelecionadas, palette=\"GnBu_d\",edgecolor=\"black\")\n",
    "plt.title(\"Total Entrevistados ANO\", fontsize=18)\n",
    "\n",
    "plt.show()"
   ]
  },
  {
   "cell_type": "code",
   "execution_count": null,
   "id": "d4855250",
   "metadata": {},
   "outputs": [],
   "source": [
    "#Plotagem das informações de gênero dos Entrevistados\n",
    "\n",
    "import plotly.express as px\n",
    "pie = df_atividadeSelecionadas['pratica_exercicio'].value_counts()\n",
    "regions = pie.index\n",
    "population = pie.values\n",
    "fig = px.pie(df_atividadeSelecionadas, values=population, names=regions, title =\"Total de entrevistados para os ANOS 2016, 2017, 2018, 2019 Agrupado por Ano\")\n",
    "fig.show()"
   ]
  },
  {
   "cell_type": "markdown",
   "id": "55419111",
   "metadata": {},
   "source": [
    "Plotagem das informações de gênero dos Entrevistados Total"
   ]
  },
  {
   "cell_type": "code",
   "execution_count": null,
   "id": "7a819e58",
   "metadata": {},
   "outputs": [],
   "source": [
    "#Plotagem das informações de gênero dos Entrevistados\n",
    "\n",
    "import plotly.express as px\n",
    "pie = df_atividadeSelecionadas[\"sexo\"].value_counts()\n",
    "regions = pie.index\n",
    "population = pie.values\n",
    "fig = px.pie(df_atividadeSelecionadas, values=population, names=regions, title =\"Total de entrevistados para os ANOS 2016, 2017, 2018, 2019 Agrupado por Gênero\")\n",
    "fig.show()"
   ]
  },
  {
   "cell_type": "markdown",
   "id": "a2406c28",
   "metadata": {},
   "source": [
    "Tratar dataframes para dois dataframes SIM e Não para a pratica de atividade fisica."
   ]
  },
  {
   "cell_type": "code",
   "execution_count": null,
   "id": "3f7fc772",
   "metadata": {},
   "outputs": [],
   "source": [
    "#Plotagem das informações de gênero dos Entrevistados\n",
    "\n",
    "import plotly.express as px\n",
    "pie = df_atividadeSelecionadas.loc[df_atividadeSelecionadas[\"pratica_exercicio\"]== \"sim\"]\n",
    "pie = pie[\"sexo\"].value_counts()\n",
    "regions = pie.index\n",
    "population = pie.values\n",
    "fig = px.pie(df_atividadeSelecionadas, values=population, names=regions, title =\"Total de entrevistados para os ANOS 2016, 2017, 2018, 2019 Agrupados por Gênero\")\n",
    "fig.show()"
   ]
  },
  {
   "cell_type": "code",
   "execution_count": null,
   "id": "ec7126d9",
   "metadata": {},
   "outputs": [],
   "source": [
    "#filtra atividade fisica e colocar o resultado no dataframe dftotalpraticaSim\n",
    "dftotalpraticaSim= df_atividadeSelecionadas.loc[df_atividadeSelecionadas[\"pratica_exercicio\"]== \"sim\"]\n",
    "\n",
    "\n",
    "#filtra não pratica atividade fisica e colocar o resultado no dataframe dftotalpraticaNao\n",
    "dftotalpraticaNao= df_atividadeSelecionadas.loc[df_atividadeSelecionadas[\"pratica_exercicio\"]== \"nao\"]\n",
    "#verifica o total de \n",
    "pequisa = Counter(df_atividadeSelecionadas['ano'])\n",
    "pequisa "
   ]
  },
  {
   "cell_type": "code",
   "execution_count": null,
   "id": "705076cc",
   "metadata": {},
   "outputs": [],
   "source": [
    "# conta quantos registros tem o dataframe pequisaSim\n",
    "pequisaSim = Counter(dftotalpraticaSim['ano'])\n",
    "pequisaSim\n"
   ]
  },
  {
   "cell_type": "markdown",
   "id": "895f283a",
   "metadata": {},
   "source": [
    "Exibe as informações dos Entrevistados que praticam atividade fisica porcentagem"
   ]
  },
  {
   "cell_type": "code",
   "execution_count": null,
   "id": "c3661e4e",
   "metadata": {},
   "outputs": [],
   "source": [
    "#Plotagem das informaçõesdos Entrevistados que praticam atividade fisica porcentagem\n",
    "plt.style.use('seaborn-pastel')\n",
    "plt.pie(pequisaSim.values(),labels = pequisaSim.keys(),\n",
    "       autopct = '%1.1f%%', textprops={'fontsize':16})\n",
    "plt.axis(\"image\")\n",
    "plt.title(\"Porcentagem de entrevistados que respoderam SIM\", fontsize=18)\n",
    "plt.show"
   ]
  },
  {
   "cell_type": "code",
   "execution_count": null,
   "id": "80b8cd85",
   "metadata": {},
   "outputs": [],
   "source": [
    "pequisaNao = Counter(dftotalpraticaNao['ano'])\n",
    "pequisaNao"
   ]
  },
  {
   "cell_type": "markdown",
   "id": "3f468fac",
   "metadata": {},
   "source": [
    "Exibe as informações dos Entrevistados total evolução ano gênero Pratica de Atividade Fisica"
   ]
  },
  {
   "cell_type": "code",
   "execution_count": null,
   "id": "0c815090",
   "metadata": {},
   "outputs": [],
   "source": [
    "#Plotagem das informações dos Entrevistados que não praticam atividade fisica porcentagem\n",
    "plt.style.use('seaborn-pastel')\n",
    "plt.pie(pequisaNao.values(),labels = pequisaNao.keys(),\n",
    "       autopct = '%1.1f%%', textprops={'fontsize':16})\n",
    "plt.axis(\"image\")\n",
    "plt.title(\"Porcentagem de entrevistados que respoderam Não\", fontsize=18)\n",
    "plt.show"
   ]
  },
  {
   "cell_type": "code",
   "execution_count": null,
   "id": "11421374",
   "metadata": {},
   "outputs": [],
   "source": [
    "#Plotagem das informações dos Entrevistados total evolução ano\n",
    "df1=df_atividadeSelecionadas[['pratica_exercicio','ano']]\n",
    "df2=df1.groupby(['ano','pratica_exercicio']).size().reset_index(name='Total Entrevistados')\n",
    "fig3 = px.line(df2, x=\"ano\", y=\"Total Entrevistados\", color='pratica_exercicio',title='Evolução Pratica de atividade Fisica ao Longo dos Anos')\n",
    "fig3.show()"
   ]
  },
  {
   "cell_type": "code",
   "execution_count": null,
   "id": "57539e48",
   "metadata": {},
   "outputs": [],
   "source": [
    "#Plotagem das informações de gênero dos Entrevistados Praticam Atividades Fisicas\n",
    "\n",
    "import plotly.express as px\n",
    "pie = dftotalpraticaSim['sexo'].value_counts()\n",
    "regions = pie.index\n",
    "population = pie.values\n",
    "fig = px.pie(dftotalpraticaSim, values=population, names=regions, title =\"Total de entrevistados por gênero que praticam Atividades Fisicas\")\n",
    "fig.show()\n",
    "#verifica o total entrevitas agrupado por ano\n",
    "pequisa1 = Counter(dftotalpraticaSim['sexo'])\n",
    "pequisa1"
   ]
  },
  {
   "cell_type": "markdown",
   "id": "e606f398",
   "metadata": {},
   "source": [
    "Exibe as informações de gênero dos Entrevistados que não Praticam Atividades Fisicas"
   ]
  },
  {
   "cell_type": "code",
   "execution_count": null,
   "id": "5bff6152",
   "metadata": {},
   "outputs": [],
   "source": [
    "#Plotagem das informações de gênero dos Entrevistados que não Praticam Atividades Fisicas\n",
    "\n",
    "import plotly.express as px\n",
    "pie = dftotalpraticaNao[\"sexo\"].value_counts()\n",
    "regions = pie.index\n",
    "\n",
    "population = pie.values\n",
    "fig = px.pie(dftotalpraticaNao, values=population, names=regions, title =\"Total de entrevistados por gênero que não praticam Atividades Fisicas\")\n",
    "fig.show()"
   ]
  },
  {
   "cell_type": "code",
   "execution_count": null,
   "id": "4c721323",
   "metadata": {},
   "outputs": [],
   "source": [
    "#Plotagem das informações de gênero dos Entrevistados Total\n",
    "import plotly.express as px\n",
    "df = df_atividadeSelecionadas\n",
    "figure = px.histogram(df, x = \"sexo\", color = \"pratica_exercicio\", title= \"Pesquisa Total ANO\")\n",
    "figure.show()"
   ]
  },
  {
   "cell_type": "code",
   "execution_count": null,
   "id": "1389f202",
   "metadata": {
    "scrolled": true
   },
   "outputs": [],
   "source": [
    "# conta quantos registros tem o dataframe pequisaNao\n",
    "pequisaNao = Counter(dftotalpraticaNao['ano'])\n",
    "pequisaNao"
   ]
  },
  {
   "cell_type": "code",
   "execution_count": null,
   "id": "1ecad0de",
   "metadata": {},
   "outputs": [],
   "source": [
    "#Contagem de modalidade por numero de praticantes\n",
    "PraticaAtivida = Counter(dftotalpraticaSim['tipo_exercicio'])\n",
    "PraticaAtivida"
   ]
  },
  {
   "cell_type": "markdown",
   "id": "d3a78cd8",
   "metadata": {},
   "source": [
    "Informações dos Entrevistados que não praticam atividade fisica porcentagem"
   ]
  },
  {
   "cell_type": "markdown",
   "id": "05647c23",
   "metadata": {},
   "source": [
    "Exibe as informações dos Tipos de Atividade Fisica total agrupado por modalidade"
   ]
  },
  {
   "cell_type": "code",
   "execution_count": null,
   "id": "b3cbdd04",
   "metadata": {
    "scrolled": true
   },
   "outputs": [],
   "source": [
    " #Plotagem das informações dos Entrevistados total evolução ano\n",
    "df= dftotalpraticaSim\n",
    "import plotly.express as px\n",
    "pie = df[\"tipo_exercicio\"].value_counts()\n",
    "regions = pie.index\n",
    "population = pie.values\n",
    "fig = px.pie(df, values=population, names=regions, title =\"Total de entrevistados para os ANOS 2016, 2017, 2018, 2019 separados por Modalidade\")\n",
    "fig.show()   \n",
    "    "
   ]
  },
  {
   "cell_type": "markdown",
   "id": "0f0cc149",
   "metadata": {},
   "source": [
    "Exibe o IMC maior que 15 e menor que 50 para todos os entrevistados"
   ]
  },
  {
   "cell_type": "code",
   "execution_count": null,
   "id": "f1da6f08",
   "metadata": {},
   "outputs": [],
   "source": [
    "#Plotagem das informações numero Total de pesquisa ANO\n",
    "\n",
    "df1=df_atividadeSelecionadas[['imc','ano']]\n",
    "df1= df1.loc[(df1['imc']> 15 ) & (df1['imc']< 50)]\n",
    "df2=df1.groupby(['ano','imc']).size().reset_index(name='Total Entrevistados')\n",
    "fig3 = px.line(df2, x=\"ano\", y=\"Total Entrevistados\", color='imc',title='Evolução IMC ao Longo dos Anos')\n",
    "fig3.show()\n"
   ]
  },
  {
   "cell_type": "markdown",
   "id": "4dbf556e",
   "metadata": {},
   "source": [
    "Exibe histograma com as idade dos Praticante de Atividade Fisica"
   ]
  },
  {
   "cell_type": "code",
   "execution_count": null,
   "id": "3a2ba20d",
   "metadata": {},
   "outputs": [],
   "source": [
    "#Plotagem de histograma com as idade Praticante Atividade Fisica\n",
    "dftotalpraticaSim.idade.hist(bins=20)\n",
    "plt.style.use('seaborn-pastel')\n",
    "plt.xlabel(\"idade\")\n",
    "plt.ylabel(\"Número de Entrevistado que pratica Atividade Fisica\")\n",
    "plt.title(\"Idade Praticante Atividade Fisica\")\n",
    "plt.show()"
   ]
  },
  {
   "cell_type": "code",
   "execution_count": null,
   "id": "413bffdb",
   "metadata": {},
   "outputs": [],
   "source": [
    "#Plotagem de histograma com as idade Praticante Atividade Fisica\n",
    "dftotalpraticaNao.idade.hist(bins=20)\n",
    "plt.style.use('seaborn-pastel')\n",
    "plt.xlabel(\"idade\")\n",
    "plt.ylabel(\"Número de Entrevistado que Não pratica Atividade Fisica\")\n",
    "plt.title(\"Idade Praticante Atividade Fisica\")\n",
    "plt.show()"
   ]
  },
  {
   "cell_type": "code",
   "execution_count": null,
   "id": "b2acb68e",
   "metadata": {},
   "outputs": [],
   "source": [
    "# Media das idades dos praticantes de atividades fisica \n",
    "dftotalpraticaSim['idade'].mean()"
   ]
  },
  {
   "cell_type": "markdown",
   "id": "c2aed6ee",
   "metadata": {},
   "source": [
    "# Vamos analisar um período especifico ANO 2019"
   ]
  },
  {
   "cell_type": "markdown",
   "id": "61bc96fa",
   "metadata": {},
   "source": [
    "Exibe total de entrevistados para os ANOS 2019 separados por Gênero"
   ]
  },
  {
   "cell_type": "code",
   "execution_count": null,
   "id": "2f53ca51",
   "metadata": {},
   "outputs": [],
   "source": [
    "# conta quantos registros tem o dataframe df_censoSelecionadas2019\n",
    "pequisa2019 = Counter(df_censoSelecionadas2019['ano'])\n",
    "pequisa2019"
   ]
  },
  {
   "cell_type": "code",
   "execution_count": null,
   "id": "6eea860f",
   "metadata": {},
   "outputs": [],
   "source": [
    "# conta quantos registros tem o dataframe df_censoSelecionadas2019\n",
    "pequisa2019Pra = Counter(df_censoSelecionadas2019['pratica_exercicio'])\n",
    "pequisa2019Pra"
   ]
  },
  {
   "cell_type": "code",
   "execution_count": null,
   "id": "0c276925",
   "metadata": {},
   "outputs": [],
   "source": [
    "#Vamos tratar um perriodo Especifico ANO 2019 \n",
    "\n",
    "#Plotagem das informações de gênero dos Entrevistados\n",
    "\n",
    "#filtra atividade fisica e colocar o resultado no dataframe dftotalpraticaSim\n",
    "df_censoSelecionadas2019Sim = df_censoSelecionadas2019.loc[df_censoSelecionadas2019['pratica_exercicio']== 'sim']\n",
    "df_censoSelecionadas2019Nao = df_censoSelecionadas2019.loc[df_censoSelecionadas2019['pratica_exercicio']== 'nao']\n",
    "df_censoSelecionadas2019teste = df_censoSelecionadas2019\n",
    "##df_censoSelecionadas2019.head()\n",
    "\n",
    "import plotly.express as px\n",
    "pie = df_censoSelecionadas2019[\"pratica_exercicio\"].value_counts()\n",
    "regions = pie.index\n",
    "population = pie.values\n",
    "fig = px.pie(df_censoSelecionadas2019, values=population, names=regions, title =\"Total de entrevistados para os ANOS 2019 separados por Sim ou Não\")\n",
    "fig.show()"
   ]
  },
  {
   "cell_type": "code",
   "execution_count": null,
   "id": "f07504d9",
   "metadata": {},
   "outputs": [],
   "source": [
    "#Vamos tratar um perriodo Especifico ANO 2019 \n",
    "\n",
    "#Plotagem das informações de gênero dos Entrevistados\n",
    "\n",
    "#filtra atividade fisica e colocar o resultado no dataframe dftotalpraticaSim\n",
    "df_censoSelecionadas2019Sim = df_censoSelecionadas2019.loc[df_censoSelecionadas2019['pratica_exercicio']== 'sim']\n",
    "df_censoSelecionadas2019Nao = df_censoSelecionadas2019.loc[df_censoSelecionadas2019['pratica_exercicio']== 'nao']\n",
    "df_censoSelecionadas2019teste = df_censoSelecionadas2019\n",
    "##df_censoSelecionadas2019.head()\n",
    "\n",
    "import plotly.express as px\n",
    "pie = df_censoSelecionadas2019[\"sexo\"].value_counts()\n",
    "regions = pie.index\n",
    "population = pie.values\n",
    "fig = px.pie(df_censoSelecionadas2019, values=population, names=regions, title =\"Total de entrevistados para os ANOS 2019 separados por Gênero\")\n",
    "fig.show()"
   ]
  },
  {
   "cell_type": "code",
   "execution_count": null,
   "id": "d05f1b70",
   "metadata": {},
   "outputs": [],
   "source": [
    "###Plotagem das informações Tipo Atividade Fisica dos Entrevistados (\"Pratica(SIM,NÃO) e Sexo\")\n",
    "sns.countplot(df_censoSelecionadas2019.pratica_exercicio, hue=df_censoSelecionadas2019.sexo )\n",
    "plt.title(\"Pratica(SIM,NÃO) e Sexo\")\n",
    "plt.show()\n"
   ]
  },
  {
   "cell_type": "markdown",
   "id": "b676c862",
   "metadata": {},
   "source": [
    "Exibe as informações de gênero dos Entrevistados que pratica atividade fisica porcentagem\n"
   ]
  },
  {
   "cell_type": "code",
   "execution_count": null,
   "id": "ba2f3817",
   "metadata": {},
   "outputs": [],
   "source": [
    "##Plotagem das informações de gênero dos Entrevistados que pratica atividade fisica porcentagem\n",
    "\n",
    "import plotly.express as px\n",
    "pie = df_censoSelecionadas2019Sim[\"sexo\"].value_counts()\n",
    "regions = pie.index\n",
    "population = pie.values\n",
    "fig = px.pie(df_censoSelecionadas2019Sim, values=population, names=regions, title =\"Porcentagem de entrevistados que respoderam SIM 2019\")\n",
    "fig.show()"
   ]
  },
  {
   "cell_type": "code",
   "execution_count": null,
   "id": "337afc59",
   "metadata": {},
   "outputs": [],
   "source": [
    "#Informações do campo idade\n",
    "df_censoSelecionadas2019['idade'].describe()"
   ]
  },
  {
   "cell_type": "code",
   "execution_count": null,
   "id": "51850a99",
   "metadata": {},
   "outputs": [],
   "source": [
    "#Informações do campo IMC\n",
    "df_censoSelecionadas2019['imc'].describe()"
   ]
  },
  {
   "cell_type": "markdown",
   "id": "4418f5ca",
   "metadata": {},
   "source": [
    "Exibe histograma com todas as campos do dataframe df_censoSelecionadas2019Sim\n"
   ]
  },
  {
   "cell_type": "code",
   "execution_count": null,
   "id": "e54251fc",
   "metadata": {},
   "outputs": [],
   "source": [
    "#Plotagem de histograma com as idade Entrevistados\n",
    "df_censoSelecionadas2019.idade.hist(bins=20)\n",
    "plt.style.use('seaborn-pastel')\n",
    "plt.xlabel(\"idade\")\n",
    "plt.ylabel(\"Número de Entrevistados\")\n",
    "plt.title(\"Idade Entrevistados\")\n",
    "plt.show()"
   ]
  },
  {
   "cell_type": "code",
   "execution_count": null,
   "id": "dbf6d45e",
   "metadata": {},
   "outputs": [],
   "source": [
    "#Informações do campo idade Praticande de Atividade\n",
    "df_censoSelecionadas2019Sim['idade'].describe()"
   ]
  },
  {
   "cell_type": "code",
   "execution_count": null,
   "id": "45a78203",
   "metadata": {},
   "outputs": [],
   "source": [
    "#Informações do campo idade Não Praticande de Atividade\n",
    "df_censoSelecionadas2019Nao['idade'].describe()"
   ]
  },
  {
   "cell_type": "code",
   "execution_count": null,
   "id": "3875f39e",
   "metadata": {},
   "outputs": [],
   "source": [
    "#Plotagem de histograma com as idade Não Praticante Atividade Fisica\n",
    "df_censoSelecionadas2019Nao.idade.hist(bins=20)\n",
    "plt.style.use('seaborn-pastel')\n",
    "plt.xlabel(\"idade\")\n",
    "plt.ylabel(\"Número de Entrevistado que pratica Atividade Fisica\")\n",
    "plt.title(\"Idade Praticante Atividade Fisica\")\n",
    "plt.show()"
   ]
  },
  {
   "cell_type": "code",
   "execution_count": null,
   "id": "c19c2a93",
   "metadata": {},
   "outputs": [],
   "source": [
    "#Plotagem de histograma com as idade Praticante Atividade Fisica\n",
    "df_censoSelecionadas2019Sim.idade.hist(bins=20)\n",
    "plt.style.use('seaborn-pastel')\n",
    "plt.xlabel(\"idade\")\n",
    "plt.ylabel(\"Número de Entrevistado que pratica Atividade Fisica\")\n",
    "plt.title(\"Idade Praticante Atividade Fisica\")\n",
    "plt.show()"
   ]
  },
  {
   "cell_type": "markdown",
   "id": "5e505990",
   "metadata": {},
   "source": [
    "Exibe evolução Pratica de atividade Fisica ao Longo da Idade"
   ]
  },
  {
   "cell_type": "code",
   "execution_count": null,
   "id": "2070d733",
   "metadata": {},
   "outputs": [],
   "source": [
    "#Plotagem das informações dos Entrevistados total evolução ano 2019\n",
    "df1=df_censoSelecionadas2019[['pratica_exercicio','idade']]\n",
    "df2=df1.groupby(['idade','pratica_exercicio']).size().reset_index(name='Total Entrevistados')\n",
    "fig3 = px.line(df2, x=\"idade\", y=\"Total Entrevistados\", color='pratica_exercicio',title='Evolução Pratica de atividade Fisica ou não ao Longo da Idade')\n",
    "fig3.show()"
   ]
  },
  {
   "cell_type": "code",
   "execution_count": null,
   "id": "7f2f346a",
   "metadata": {},
   "outputs": [],
   "source": [
    "#filtra atividade fisica e colocar o resultado no dataframe dftotalpraticaSim\n",
    "df_censoSelecionadas2019Sim= df_censoSelecionadas2019.loc[df_censoSelecionadas2019[\"pratica_exercicio\"]== \"sim\"]\n",
    "\n",
    "\n",
    "#filtra não pratica atividade fisica e colocar o resultado no dataframe dftotalpraticaNao\n",
    "df_censoSelecionadas2019Nao= df_censoSelecionadas2019.loc[df_censoSelecionadas2019[\"pratica_exercicio\"]== \"nao\"]\n",
    "#verifica o total de \n",
    "df_pequisa2019 = Counter(df_censoSelecionadas2019['ano'])\n",
    "df_pequisa2019 "
   ]
  },
  {
   "cell_type": "markdown",
   "id": "ba25c9b5",
   "metadata": {},
   "source": [
    "Total Pequisa Sim 2019"
   ]
  },
  {
   "cell_type": "code",
   "execution_count": null,
   "id": "3856d38b",
   "metadata": {},
   "outputs": [],
   "source": [
    "df_pequisa2019SIM = Counter(df_censoSelecionadas2019Sim['ano'])\n",
    "df_pequisa2019SIM "
   ]
  },
  {
   "cell_type": "markdown",
   "id": "2796069a",
   "metadata": {},
   "source": [
    "Total Pequisa Não 2019"
   ]
  },
  {
   "cell_type": "code",
   "execution_count": null,
   "id": "7be1b77b",
   "metadata": {},
   "outputs": [],
   "source": [
    "df_pequisa2019NAO = Counter(df_censoSelecionadas2019Nao['ano'])\n",
    "df_pequisa2019NAO"
   ]
  },
  {
   "cell_type": "code",
   "execution_count": null,
   "id": "acf27a6d",
   "metadata": {},
   "outputs": [],
   "source": [
    "#Descrição estatística da idade dos Entrevistados Sim 2019\n",
    "df_censoSelecionadas2019Sim['idade'].describe()"
   ]
  },
  {
   "cell_type": "code",
   "execution_count": null,
   "id": "3df7c69d",
   "metadata": {},
   "outputs": [],
   "source": [
    "#Nome colunas daaframe df_censoSelecionadas2019Sim\n",
    "df_censoSelecionadas2019Sim.columns.values"
   ]
  },
  {
   "cell_type": "code",
   "execution_count": null,
   "id": "e80cb4cf",
   "metadata": {},
   "outputs": [],
   "source": [
    "#exibe as cor dos entrevistados SIM\n",
    "df_censoSelecionadas2019Sim[\"cor\"].value_counts()"
   ]
  },
  {
   "cell_type": "code",
   "execution_count": null,
   "id": "fc86ff61",
   "metadata": {},
   "outputs": [],
   "source": [
    "#exibe as cor dos entrevistados SIM\n",
    "df_censoSelecionadas2019Nao[\"cor\"].value_counts()"
   ]
  },
  {
   "cell_type": "code",
   "execution_count": null,
   "id": "fdc99d60",
   "metadata": {},
   "outputs": [],
   "source": [
    "##Plotagem das informações Tipo Atividade Fisica dos Entrevistados por COR porcentagem\n",
    "import plotly.express as px\n",
    "pie =df_censoSelecionadas2019[\"cor\"].value_counts()\n",
    "regions = pie.index\n",
    "population = pie.values\n",
    "fig = px.pie(df_censoSelecionadas2019, values=population, names=regions, title =\"Porcentagem de entrevistados Por Cor\")\n",
    "fig.show()"
   ]
  },
  {
   "cell_type": "markdown",
   "id": "f846b557",
   "metadata": {},
   "source": [
    "# Exibe as informações Tipo Atividade Fisica dos Entrevistados por COR porcentagem"
   ]
  },
  {
   "cell_type": "code",
   "execution_count": null,
   "id": "68328485",
   "metadata": {},
   "outputs": [],
   "source": [
    "##Plotagem das informações Tipo Atividade Fisica dos Entrevistados por COR porcentagem\n",
    "import plotly.express as px\n",
    "pie =df_censoSelecionadas2019Sim[\"cor\"].value_counts()\n",
    "regions = pie.index\n",
    "population = pie.values\n",
    "fig = px.pie(df_censoSelecionadas2019Sim, values=population, names=regions, title =\"Porcentagem de entrevistados por Cor praticante de atividade\")\n",
    "fig.show()"
   ]
  },
  {
   "cell_type": "markdown",
   "id": "409ea339",
   "metadata": {},
   "source": [
    "Exibe as informações Tipo Atividade Fisica dos Entrevistados por COR e Gênero"
   ]
  },
  {
   "cell_type": "code",
   "execution_count": null,
   "id": "ec0e70d2",
   "metadata": {},
   "outputs": [],
   "source": [
    "###Plotagem das informações Tipo Atividade Fisica dos Entrevistados cor da pele e sexo\n",
    "sns.countplot(df_censoSelecionadas2019Sim.cor, hue=df_censoSelecionadas2019Sim.sexo )\n",
    "plt.title(\"Cor e Sexo\")\n",
    "plt.show()\n"
   ]
  },
  {
   "cell_type": "markdown",
   "id": "b7bf7d5c",
   "metadata": {},
   "source": [
    "Exibe as informações Atividade Fisica dos Entrevistados por Região"
   ]
  },
  {
   "cell_type": "code",
   "execution_count": null,
   "id": "41821449",
   "metadata": {},
   "outputs": [],
   "source": [
    "##Plotagem das informações Atividade Fisica dos Entrevistados que praticam atividade porcentagem por Região\n",
    "\n",
    "import plotly.express as px\n",
    "pie = df_censoSelecionadas2019Sim[\"regiao\"].value_counts()\n",
    "regions = pie.index\n",
    "population = pie.values\n",
    "fig = px.pie(df_censoSelecionadas2019Sim, values=population, names=regions, title =\"Porcentagem de entrevistados Por Regiao\")\n",
    "fig.show()"
   ]
  },
  {
   "cell_type": "code",
   "execution_count": null,
   "id": "7e4aa024",
   "metadata": {},
   "outputs": [],
   "source": [
    "#Atividade Fisica dos Entrevistados que praticam atividade porcentagem por Região\n",
    "\n",
    "df_censoSelecionadas2019Sim[\"regiao\"].value_counts()"
   ]
  },
  {
   "cell_type": "code",
   "execution_count": null,
   "id": "bf960451",
   "metadata": {},
   "outputs": [],
   "source": [
    "##Plotagem das informações Atividade Fisica dos Entrevistados que Não praticam atividade porcentagem por Estado Civil\n",
    "\n",
    "import plotly.express as px\n",
    "pie = df_censoSelecionadas2019Nao[\"civil\"].value_counts()\n",
    "regions = pie.index\n",
    "population = pie.values\n",
    "fig = px.pie(df_censoSelecionadas2019Nao, values=population, names=regions, title =\"Porcentagem de entrevistados Por Estado Civil\")\n",
    "fig.show()"
   ]
  },
  {
   "cell_type": "code",
   "execution_count": null,
   "id": "a6033d1d",
   "metadata": {},
   "outputs": [],
   "source": [
    "df_casados =df_censoSelecionadas2019Sim.loc[df_censoSelecionadas2019Sim['civil']== 'casado legalmente']\n",
    "df_casados['idade'].describe()"
   ]
  },
  {
   "cell_type": "code",
   "execution_count": null,
   "id": "b59b7024",
   "metadata": {},
   "outputs": [],
   "source": [
    "\n",
    "df_censoSelecionadas2019Sim['idade'].describe()"
   ]
  },
  {
   "cell_type": "code",
   "execution_count": null,
   "id": "4b411cd0",
   "metadata": {},
   "outputs": [],
   "source": [
    "#exibe lista estado Civil\n",
    "df_pequisa2019SIMEstadoCivil = Counter(df_censoSelecionadas2019Sim[\"civil\"])\n",
    "df_pequisa2019SIMEstadoCivil\n"
   ]
  },
  {
   "cell_type": "code",
   "execution_count": null,
   "id": "4fb30262",
   "metadata": {
    "scrolled": true
   },
   "outputs": [],
   "source": [
    "##Plotagem das informações Atividade Fisica dos Entrevistados que praticam atividade porcentagem por Estado Civil\n",
    "\n",
    "import plotly.express as px\n",
    "pie = df_censoSelecionadas2019Sim[\"civil\"].value_counts()\n",
    "regions = pie.index\n",
    "population = pie.values\n",
    "fig = px.pie(df_censoSelecionadas2019Sim, values=population, names=regions, title =\"Porcentagem de entrevistados Por Estado CIVIL\")\n",
    "fig.show()"
   ]
  },
  {
   "cell_type": "markdown",
   "id": "80251f00",
   "metadata": {},
   "source": [
    "Exibe as informações Atividade Fisica dos Entrevistados que praticam atividade porcentagem agrupado por Cidade"
   ]
  },
  {
   "cell_type": "code",
   "execution_count": null,
   "id": "24e1388e",
   "metadata": {
    "scrolled": true
   },
   "outputs": [],
   "source": [
    "##Plotagem das informações Tipo Atividade Fisica dos Entrevistados que praticam atividade porcentagem agrupado por Cidade\n",
    "\n",
    "import plotly.express as px\n",
    "pie = df_censoSelecionadas2019Sim[\"nome_capital\"].value_counts()\n",
    "regions = pie.index\n",
    "population = pie.values\n",
    "fig = px.pie(df_censoSelecionadas2019Sim, values=population, names=regions, title =\"Porcentagem de entrevistados que respoderam SIM 2019 agrupado por Cidade\")\n",
    "fig.show()"
   ]
  },
  {
   "cell_type": "code",
   "execution_count": null,
   "id": "6d73bffb",
   "metadata": {},
   "outputs": [],
   "source": [
    "# Conta quantos Respoderam sim por Capital\n",
    "df_censoSelecionadas2019Sim[\"nome_capital\"].value_counts()"
   ]
  },
  {
   "cell_type": "code",
   "execution_count": null,
   "id": "7804e56e",
   "metadata": {},
   "outputs": [],
   "source": [
    "df_censoSelecionadas2019Sim.head()"
   ]
  },
  {
   "cell_type": "code",
   "execution_count": null,
   "id": "0bb0f974",
   "metadata": {},
   "outputs": [],
   "source": [
    "#Plotagem das informações dos Entrevistados total evolução ano 2019\n",
    "df1=df_censoSelecionadas2019Sim[['nome_capital','imc',]]\n",
    "df1=df1.loc[(df1['imc']> 15 ) & (df1['imc']< 50)]\n",
    "df2=df1.groupby(['imc','nome_capital']).size().reset_index(name='Total Entrevistados')\n",
    "fig3 = px.line(df2, x=\"imc\", y=\"Total Entrevistados\", color='nome_capital',title='Evolução Pratica de atividade Fisica ao Longo do IMC')\n",
    "fig3.show()"
   ]
  },
  {
   "cell_type": "markdown",
   "id": "40b3b959",
   "metadata": {},
   "source": [
    "Exibe top 10 Capitais na Pratica de exercicios"
   ]
  },
  {
   "cell_type": "code",
   "execution_count": null,
   "id": "f447c0d8",
   "metadata": {},
   "outputs": [],
   "source": [
    "import matplotlib as mpl\n",
    "game = df_censoSelecionadas2019Sim.groupby(\"nome_capital\")[\"ano\"].count().head(10)\n",
    "custom_colors = mpl.colors.Normalize(vmin=min(game), vmax=max(game))\n",
    "colours = [mpl.cm.PuBu(custom_colors(i)) for i in game]\n",
    "plt.figure(figsize=(7,7))\n",
    "plt.pie(game, labels=game.index, colors=colours)\n",
    "central_circle = plt.Circle((0, 0), 0.5, color='white')\n",
    "fig = plt.gcf()\n",
    "fig.gca().add_artist(central_circle)\n",
    "plt.rc('font', size=13)\n",
    "plt.title(\"Top 10 Capitais Pratica de exercicio \", fontsize=20)\n",
    "plt.show()"
   ]
  },
  {
   "cell_type": "code",
   "execution_count": null,
   "id": "73b4dc3e",
   "metadata": {},
   "outputs": [],
   "source": [
    "#seleciona coluna Nome Capital e salario\n",
    "\n",
    "ColunasSelecionadaCenso = ['nome_capital','Salario']\n",
    "SalarioCapital = df_censoSelecionadas.filter(items=ColunasSelecionadaCenso)\n",
    "SalarioCapital"
   ]
  },
  {
   "cell_type": "code",
   "execution_count": null,
   "id": "e4155578",
   "metadata": {},
   "outputs": [],
   "source": [
    "#Plotagem do gráfico Salario por capital\n",
    "plt.style.use('seaborn-pastel')\n",
    "plt.barh( df_censoSelecionadas.nome_capital, df_censoSelecionadas.Salario,)\n",
    "plt.ylabel('Salario')\n",
    "plt.xlabel('nome_capital')\n",
    "plt.title('Salario Medio Por capital')\n",
    "plt.show()"
   ]
  },
  {
   "cell_type": "code",
   "execution_count": null,
   "id": "c6f8a348",
   "metadata": {},
   "outputs": [],
   "source": [
    "##Plotagem das informações Salario porcentagem agrupado por Cidade\n",
    "\n",
    "import plotly.express as px\n",
    "pie = df_censoSelecionadas[\"Salario\"]\n",
    "regions =df_censoSelecionadas[\"nome_capital\"] \n",
    "population = pie.values\n",
    "fig = px.pie(df_censoSelecionadas, values=population, names=regions, title =\"Porcentagem Salario agrupado por salario\")\n",
    "fig.show()"
   ]
  },
  {
   "cell_type": "code",
   "execution_count": null,
   "id": "0a486135",
   "metadata": {},
   "outputs": [],
   "source": [
    "#seleciona coluna Nome Capital e PIB\n",
    "\n",
    "ColunasSelecionadaCenso = ['nome_capital','PIB']\n",
    "SalarioCapital = df_censoSelecionadas.filter(items=ColunasSelecionadaCenso)\n",
    "SalarioCapital"
   ]
  },
  {
   "cell_type": "code",
   "execution_count": null,
   "id": "fe83067a",
   "metadata": {},
   "outputs": [],
   "source": [
    "##Plotagem das informações PIB porcentagem agrupado por Cidade\n",
    "\n",
    "import plotly.express as px\n",
    "pie = SalarioCapital[\"PIB\"]\n",
    "regions =SalarioCapital[\"nome_capital\"] \n",
    "population = pie.values\n",
    "fig = px.pie(df_censoSelecionadas, values=population, names=regions, title =\"Porcentagem Salario agrupado por PIB\")\n",
    "fig.show()"
   ]
  },
  {
   "cell_type": "code",
   "execution_count": null,
   "id": "203d8f56",
   "metadata": {},
   "outputs": [],
   "source": [
    " ##Plotagem das informações Total população porcentagem agrupado por Cidade\n",
    "\n",
    "ColunasSelecionadaCenso = ['nome_capital','populacao_estimada_pessoas']\n",
    "SalarioCapital = df_censoSelecionadas.filter(items=ColunasSelecionadaCenso)\n",
    "SalarioCapital"
   ]
  },
  {
   "cell_type": "code",
   "execution_count": null,
   "id": "f59d3035",
   "metadata": {},
   "outputs": [],
   "source": [
    "#Total População\n",
    "dfCont= sum(SalarioCapital.populacao_estimada_pessoas)\n",
    "dfCont"
   ]
  },
  {
   "cell_type": "code",
   "execution_count": null,
   "id": "8a9ff7c3",
   "metadata": {},
   "outputs": [],
   "source": [
    " ##Plotagem das informações Total população porcentagem agrupado por Cidade\n",
    "\n",
    "import plotly.express as px\n",
    "pie = df_censoSelecionadas[\"Salario\"]\n",
    "regions =df_censoSelecionadas[\"nome_capital\"] \n",
    "population = pie.values\n",
    "fig = px.pie(df_censoSelecionadas, values=population, names=regions, title =\"Porcentagem Contagem população agrupado por cidade\")\n",
    "fig.show()"
   ]
  },
  {
   "cell_type": "code",
   "execution_count": null,
   "id": "1374d775",
   "metadata": {},
   "outputs": [],
   "source": [
    "#Plotagem do gráfico Salario por capital\n",
    "\n",
    "plt.style.use('seaborn-pastel')\n",
    "plt.barh( df_censoSelecionadas.nome_capital, df_censoSelecionadas.Salario,)\n",
    "plt.ylabel('PIB')\n",
    "plt.xlabel('nome_capital')\n",
    "plt.title('Valor PIB')\n",
    "plt.show()"
   ]
  },
  {
   "cell_type": "code",
   "execution_count": null,
   "id": "21989246",
   "metadata": {},
   "outputs": [],
   "source": [
    "#Plotagem das informações Duração dos Exercicios por Frequencia Exercicio\n",
    "import plotly.express as px\n",
    "df = df_censoSelecionadas2019Sim\n",
    "figure = px.histogram(df, x = \"tipo_exercicio\", color = \"frequencia_exercicio\", title= \"Duração dos Exercicios por Frquencia Agrupado Exercicio\")\n",
    "figure.show()"
   ]
  },
  {
   "cell_type": "code",
   "execution_count": null,
   "id": "8e12697b",
   "metadata": {},
   "outputs": [],
   "source": [
    "#Plotagem das informações Duração dos Exercicios por Capital\"\n",
    "import plotly.express as px\n",
    "df = df_censoSelecionadas2019Sim \n",
    "figure = px.histogram(df, x = \"nome_capital\", color = \"tipo_exercicio\", title= \"Tipo de Exercicios por Capital\")\n",
    "figure.show()"
   ]
  },
  {
   "cell_type": "code",
   "execution_count": null,
   "id": "34db7e7a",
   "metadata": {},
   "outputs": [],
   "source": [
    "#Plotagem das informações Duração dos Exercicios por Frequencia por Cor\n",
    "import plotly.express as px\n",
    "df = df_censoSelecionadas2019Sim\n",
    "figure = px.histogram(df, x = \"cor\", color = \"frequencia_exercicio\", title= \"Duração dos Exercicios por Frquencia Agrupado Por Cor\")\n",
    "figure.show()"
   ]
  },
  {
   "cell_type": "code",
   "execution_count": null,
   "id": "4f01733a",
   "metadata": {},
   "outputs": [],
   "source": [
    "\n",
    "#Plotagem das informações Duração dos Exercicios por Tipo Exercicio\"\n",
    "import plotly.express as px\n",
    "df = df_censoSelecionadas2019Sim\n",
    "figure = px.histogram(df, x = \"nome_capital\", color = \"duracao_exercicio\", title= \"Duração dos Exercicios por Tipo Exercicio\")\n",
    "figure.show()"
   ]
  },
  {
   "cell_type": "code",
   "execution_count": null,
   "id": "8a33de37",
   "metadata": {},
   "outputs": [],
   "source": [
    "# Total agrupado por atividade fisica\n",
    "df_censoSelecionadas2019Sim[\"tipo_exercicio\"].value_counts()"
   ]
  },
  {
   "cell_type": "code",
   "execution_count": null,
   "id": "b34b661b",
   "metadata": {},
   "outputs": [],
   "source": [
    "##Plotagem das informações Tipo Atividade Fisica dos Entrevistados que pratica atividade porcentagem agrupado por Atividade\n",
    "\n",
    "import plotly.express as px\n",
    "pie = df_censoSelecionadas2019Sim[\"tipo_exercicio\"].value_counts()\n",
    "regions = pie.index\n",
    "population = pie.values\n",
    "fig = px.pie(df_censoSelecionadas2019Sim, values=population, names=regions, title =\"Porcentagem de entrevistados que respoderam SIM 2019 agrupado por Atividade\")\n",
    "fig.show()"
   ]
  },
  {
   "cell_type": "code",
   "execution_count": null,
   "id": "3fa2ec1e",
   "metadata": {},
   "outputs": [],
   "source": [
    "df_censoSelecionadas.head()"
   ]
  },
  {
   "cell_type": "code",
   "execution_count": null,
   "id": "baedf5f3",
   "metadata": {},
   "outputs": [],
   "source": [
    "#Plotagem das informações dos Entrevistados total evolução ano 2019\n",
    "df1=df_censoSelecionadas2019Sim[['tipo_exercicio','idade',]]\n",
    "df2=df1.groupby(['idade','tipo_exercicio']).size().reset_index(name='Total Entrevistados')\n",
    "fig3 = px.line(df2, x=\"idade\", y=\"Total Entrevistados\", color='tipo_exercicio',title='Evolução Pratica de atividade Fisica ao Longo da Idade por Tipo Exercicio')\n",
    "fig3.show()"
   ]
  },
  {
   "cell_type": "code",
   "execution_count": null,
   "id": "a1d8d994",
   "metadata": {
    "scrolled": true
   },
   "outputs": [],
   "source": [
    "#Plotagem das informações Duração dos Exercicios por COR\"\n",
    "import plotly.express as px\n",
    "df = df_censoSelecionadas2019Sim\n",
    "figure = px.histogram(df, x = \"cor\", color = \"tipo_exercicio\", title= \"Tipo de Exercicios por COR\")\n",
    "figure.show()"
   ]
  },
  {
   "cell_type": "code",
   "execution_count": null,
   "id": "56a3b0c9",
   "metadata": {},
   "outputs": [],
   "source": [
    "#Plotagem das informações Duração dos Exercicios por COR\"\n",
    "import plotly.express as px\n",
    "df = df_censoSelecionadas2019Sim\n",
    "figure = px.histogram(df, x = \"cor\", color = \"duracao_exercicio\", barmode ='group', title= \"Duração dos Exercicios por COR\")\n",
    "figure.show()"
   ]
  },
  {
   "cell_type": "code",
   "execution_count": null,
   "id": "8538e7d0",
   "metadata": {},
   "outputs": [],
   "source": [
    "\n",
    "#Plotagem das informações Duração dos Exercicios por Tipo Exercicio\"\n",
    "import plotly.express as px\n",
    "df = df_censoSelecionadas2019Sim\n",
    "figure = px.histogram(df, x = \"tipo_exercicio\", color = \"duracao_exercicio\", title= \"Duração dos Exercicios por Tipo Exercicio\")\n",
    "figure.show()"
   ]
  },
  {
   "cell_type": "markdown",
   "id": "caf3b757",
   "metadata": {},
   "source": [
    "Exibe Top 10 Tipo Exercico praticados"
   ]
  },
  {
   "cell_type": "code",
   "execution_count": null,
   "id": "15b860fe",
   "metadata": {
    "scrolled": false
   },
   "outputs": [],
   "source": [
    "import matplotlib as mpl\n",
    "game = df_censoSelecionadas2019Sim.groupby(\"tipo_exercicio\")[\"ano\"].count().head(10)\n",
    "custom_colors = mpl.colors.Normalize(vmin=min(game), vmax=max(game))\n",
    "colours = [mpl.cm.PuBu(custom_colors(i)) for i in game]\n",
    "plt.figure(figsize=(7,7))\n",
    "plt.pie(game, labels=game.index, colors=colours)\n",
    "central_circle = plt.Circle((0, 0), 0.5, color='white')\n",
    "fig = plt.gcf()\n",
    "fig.gca().add_artist(central_circle)\n",
    "plt.rc('font', size=12)\n",
    "plt.title(\"Top 10 Tipo Exercico praticado \", fontsize=20)\n",
    "plt.show()"
   ]
  },
  {
   "cell_type": "code",
   "execution_count": null,
   "id": "d9d13550",
   "metadata": {},
   "outputs": [],
   "source": [
    "#Conta lista exercicos\n",
    "df_censoSelecionadas2019Sim[\"tipo_exercicio\"].value_counts()"
   ]
  },
  {
   "cell_type": "markdown",
   "id": "dc0cfd4c",
   "metadata": {},
   "source": [
    "Evolução Pratica de atividade Fisica ao Longo da Idade por Cidade"
   ]
  },
  {
   "cell_type": "code",
   "execution_count": null,
   "id": "019cf2fe",
   "metadata": {},
   "outputs": [],
   "source": [
    "#Plotagem das informações dos Entrevistados total evolução ano 2019\n",
    "df1=df_censoSelecionadas2019[['nome_capital','idade']]\n",
    "df2=df1.groupby(['idade','nome_capital']).size().reset_index(name='Total Entrevistados')\n",
    "fig3 = px.line(df2, x=\"idade\", y=\"Total Entrevistados\", color='nome_capital',title='Evolução Pratica de atividade Fisica ao Longo da Idade por Cidade')\n",
    "fig3.show()"
   ]
  },
  {
   "cell_type": "markdown",
   "id": "5025a781",
   "metadata": {},
   "source": [
    "Evolução Pratica de atividade Fisica ao Longo da Idade por Região"
   ]
  },
  {
   "cell_type": "code",
   "execution_count": null,
   "id": "f779b5db",
   "metadata": {},
   "outputs": [],
   "source": [
    "#Plotagem das informações dos Entrevistados total evolução Região\n",
    "df1=df_censoSelecionadas2019Sim[['regiao','idade']]\n",
    "df2=df1.groupby(['idade','regiao']).size().reset_index(name='Total Entrevistados')\n",
    "fig3 = px.line(df2, x=\"idade\", y=\"Total Entrevistados\", color='regiao',title='Evolução Pratica de atividade Fisica ao Longo da Idade por Região')\n",
    "fig3.show()"
   ]
  },
  {
   "cell_type": "markdown",
   "id": "258fe329",
   "metadata": {},
   "source": [
    "Evolução Pratica de atividade Fisica ao Longo da Idade por Cor"
   ]
  },
  {
   "cell_type": "code",
   "execution_count": null,
   "id": "65520568",
   "metadata": {},
   "outputs": [],
   "source": [
    "#Plotagem das informações dos Entrevistados total evolução ano 2019\n",
    "df1=df_censoSelecionadas2019Sim[['cor','idade',]]\n",
    "df2=df1.groupby(['idade','cor']).size().reset_index(name='Total Entrevistados')\n",
    "fig3 = px.line(df2, x=\"idade\", y=\"Total Entrevistados\", color='cor',title='Evolução Pratica de atividade Fisica ao Longo da Idade por Cor')\n",
    "fig3.show()"
   ]
  },
  {
   "cell_type": "markdown",
   "id": "c1d1279f",
   "metadata": {},
   "source": [
    "Exibe Evolução Pratica de atividade Fisica ao Longo da Idade por Cidades região Sudeste"
   ]
  },
  {
   "cell_type": "code",
   "execution_count": null,
   "id": "ca06eedb",
   "metadata": {
    "scrolled": true
   },
   "outputs": [],
   "source": [
    "#Plotagem das informações dos Entrevistados total evolução ano 2019\n",
    "df_cidade = df_censoSelecionadas2019Sim.loc[(df_censoSelecionadas2019Sim[\"regiao\"]== 'Sudeste')]\n",
    "df1=df_cidade[['nome_capital','idade']]\n",
    "df2=df1.groupby(['idade','nome_capital']).size().reset_index(name='Total Entrevistados')\n",
    "fig3 = px.line(df2, x=\"idade\", y=\"Total Entrevistados\", color='nome_capital',title='Evolução Pratica de atividade Fisica ao Longo da Idade Capital Sudeste')\n",
    "fig3.show()"
   ]
  },
  {
   "cell_type": "code",
   "execution_count": null,
   "id": "af85dc86",
   "metadata": {},
   "outputs": [],
   "source": [
    "# Agrupa e exibe tipço exercico\n",
    "df_censoSelecionadas2019SimGroup  = df_censoSelecionadas2019Sim.groupby(['tipo_exercicio'], as_index=False)\n",
    "pequisaNao1 = Counter(df_censoSelecionadas2019Sim['tipo_exercicio'])\n",
    "pequisaNao1\n"
   ]
  },
  {
   "cell_type": "code",
   "execution_count": null,
   "id": "56650a7e",
   "metadata": {},
   "outputs": [],
   "source": [
    "df_censoSelecionadas2019Sim.head()"
   ]
  },
  {
   "cell_type": "code",
   "execution_count": null,
   "id": "fcf77e4b",
   "metadata": {},
   "outputs": [],
   "source": [
    "#Contagem das opções da coluna grau_escolaridade dos entrevistados\n",
    "df_escolaridade_praticanteAtividade = Counter(df_censoSelecionadas2019Sim['grau_escolaridade'])\n",
    "df_escolaridade_praticanteAtividade"
   ]
  },
  {
   "cell_type": "code",
   "execution_count": null,
   "id": "cfd46b12",
   "metadata": {},
   "outputs": [],
   "source": [
    "#Contagem das opções da coluna grau_escolaridade dos entrevistados\n",
    "df_escolaridade_Naopraticante= Counter(df_censoSelecionadas2019Nao['grau_escolaridade'])\n",
    "df_escolaridade_Naopraticante"
   ]
  },
  {
   "cell_type": "code",
   "execution_count": null,
   "id": "0e2db714",
   "metadata": {},
   "outputs": [],
   "source": [
    "#Identificação dos percentuais de escolaridade dos Entrevistados Não praticam\n",
    "n_censoSelecionadas2019Nao=sum(df_escolaridade_Naopraticante.values())\n",
    "for x, y in df_escolaridade_Naopraticante.items():\n",
    "    a = y/n_censoSelecionadas2019Nao*100\n",
    "    print(str(x) + ': ' +'\\n'+ str(round(a,2)) + '%'+'\\n')"
   ]
  },
  {
   "cell_type": "code",
   "execution_count": null,
   "id": "1662f49a",
   "metadata": {},
   "outputs": [],
   "source": [
    "#Identificação dos percentuais de escolaridade dos Entrevistados\n",
    "n_censoSelecionadas2019=sum(df_escolaridade_praticanteAtividade.values())\n",
    "for x, y in df_escolaridade_praticanteAtividade.items():\n",
    "    a = y/n_censoSelecionadas2019*100\n",
    "    print(str(x) + ': ' +'\\n'+ str(round(a,2)) + '%'+'\\n')\n"
   ]
  },
  {
   "cell_type": "code",
   "execution_count": null,
   "id": "384e4e8b",
   "metadata": {},
   "outputs": [],
   "source": [
    "#Criação de listas para construção do gráfico de escolaridade\n",
    "lista_df_escolaridade_praticanteAtividade_labels = []\n",
    "lista_df_escolaridade_praticanteAtividade_valores = []\n",
    "for x, y in df_escolaridade_praticanteAtividade.items():\n",
    "    lista_df_escolaridade_praticanteAtividade_labels.append(x)\n",
    "    lista_df_escolaridade_praticanteAtividade_valores.append(y)"
   ]
  },
  {
   "cell_type": "code",
   "execution_count": null,
   "id": "b5b7bdf8",
   "metadata": {},
   "outputs": [],
   "source": [
    "#Verificação da lista criada\n",
    "lista_df_escolaridade_praticanteAtividade_valores"
   ]
  },
  {
   "cell_type": "code",
   "execution_count": null,
   "id": "c0927b10",
   "metadata": {},
   "outputs": [],
   "source": [
    "#Verificação da lista criada\n",
    "lista_df_escolaridade_praticanteAtividade_labels"
   ]
  },
  {
   "cell_type": "code",
   "execution_count": null,
   "id": "aee2a4a9",
   "metadata": {},
   "outputs": [],
   "source": [
    "#Plotagem do gráfico de escolaridade dos Entrevistados\n",
    "plt.style.use('seaborn-pastel')\n",
    "plt.barh(lista_df_escolaridade_praticanteAtividade_labels, lista_df_escolaridade_praticanteAtividade_valores)\n",
    "plt.ylabel('Escolaridade')\n",
    "plt.xlabel('número de Praticantes')\n",
    "plt.title('Total de Praticantes por Escolaridade', fontsize=18)\n",
    "plt.show()\n",
    "\n",
    "\n",
    "\n"
   ]
  },
  {
   "cell_type": "markdown",
   "id": "616ab5d0",
   "metadata": {},
   "source": [
    "# Analise de Escolaridade"
   ]
  },
  {
   "cell_type": "code",
   "execution_count": null,
   "id": "e2a481b6",
   "metadata": {},
   "outputs": [],
   "source": [
    "#Plotagem Escolaridade\"\n",
    "import plotly.express as px\n",
    "df =df_atividadeSelecionadas.loc[df_atividadeSelecionadas['ano']== 2019]\n",
    "figure = px.histogram(df, x = \"grau_escolaridade\", color = \"pratica_exercicio\", title= \"Atividade Fisica Escolaridade\")\n",
    "figure.show()"
   ]
  },
  {
   "cell_type": "markdown",
   "id": "f1a75756",
   "metadata": {},
   "source": [
    "# 5. Criação de Modelos de Machine Learning"
   ]
  },
  {
   "cell_type": "code",
   "execution_count": null,
   "id": "35aa63f2",
   "metadata": {},
   "outputs": [],
   "source": [
    "#Verifica se existe valores nulo no Data Frame\n",
    "df_censoSelecionadas2019FinalTreinamento.isnull().sum()"
   ]
  },
  {
   "cell_type": "code",
   "execution_count": null,
   "id": "a60fe429",
   "metadata": {},
   "outputs": [],
   "source": [
    "\n",
    "df_censoSelecionadas2019FinalTreinamento['pratica_exercicio'].replace(2,0, inplace =True)"
   ]
  },
  {
   "cell_type": "code",
   "execution_count": null,
   "id": "3d657aa5",
   "metadata": {},
   "outputs": [],
   "source": [
    "#Exibe os valores do Data Frame\n",
    "df_censoSelecionadas2019FinalTreinamento.head()"
   ]
  },
  {
   "cell_type": "code",
   "execution_count": null,
   "id": "81c2de8f",
   "metadata": {},
   "outputs": [],
   "source": [
    "#Exibe informação do Data Frame\n",
    "df_censoSelecionadas2019FinalTreinamento.info()"
   ]
  },
  {
   "cell_type": "code",
   "execution_count": null,
   "id": "ec97ef52",
   "metadata": {},
   "outputs": [],
   "source": [
    "#trata tipo campo \n",
    "df_censoSelecionadas2019FinalTreinamento.ordem    = df_censoSelecionadas2019FinalTreinamento.ordem.astype('int64')\n",
    "df_censoSelecionadas2019FinalTreinamento.ano  = df_censoSelecionadas2019FinalTreinamento.ano.astype('uint8')\n",
    "df_censoSelecionadas2019FinalTreinamento.civil  = df_censoSelecionadas2019FinalTreinamento.civil.astype('uint8')\n",
    "df_censoSelecionadas2019FinalTreinamento.idade  = df_censoSelecionadas2019FinalTreinamento.idade.astype('uint8')\n",
    "df_censoSelecionadas2019FinalTreinamento.sexo   = df_censoSelecionadas2019FinalTreinamento.sexo.astype('uint8')\n",
    "df_censoSelecionadas2019FinalTreinamento.grau_escolaridade  = df_censoSelecionadas2019FinalTreinamento.grau_escolaridade.astype('uint8')\n",
    "df_censoSelecionadas2019FinalTreinamento.peso   = df_censoSelecionadas2019FinalTreinamento.peso.astype('uint8')\n",
    "df_censoSelecionadas2019FinalTreinamento.altura = df_censoSelecionadas2019FinalTreinamento.altura.astype('uint8')\n",
    "df_censoSelecionadas2019FinalTreinamento.pratica_exercicio  = df_censoSelecionadas2019FinalTreinamento.pratica_exercicio.astype('uint8')\n",
    "df_censoSelecionadas2019FinalTreinamento.tipo_exercicio     = df_censoSelecionadas2019FinalTreinamento.tipo_exercicio.astype('uint8')\n",
    "df_censoSelecionadas2019FinalTreinamento.pratica_exercicio_1_vez_na_semana = df_censoSelecionadas2019FinalTreinamento.pratica_exercicio_1_vez_na_semana.astype('uint8')\n",
    "df_censoSelecionadas2019FinalTreinamento.frequencia_exercicio = df_censoSelecionadas2019FinalTreinamento.frequencia_exercicio.astype('uint8')\n",
    "df_censoSelecionadas2019FinalTreinamento.duracao_exercicio = df_censoSelecionadas2019FinalTreinamento.duracao_exercicio.astype('uint8')\n",
    "df_censoSelecionadas2019FinalTreinamento.cor = df_censoSelecionadas2019FinalTreinamento.cor.astype('uint8')\n"
   ]
  },
  {
   "cell_type": "code",
   "execution_count": null,
   "id": "3803f2bc",
   "metadata": {},
   "outputs": [],
   "source": [
    "#Verificação dos valores da coluna Sexo\n",
    "df_censoSelecionadas2019FinalTreinamento['sexo'].unique()"
   ]
  },
  {
   "cell_type": "code",
   "execution_count": null,
   "id": "1fdb50ce",
   "metadata": {},
   "outputs": [],
   "source": [
    "#total Pesquisa\n",
    "pequisa2019Pra = Counter(df_censoSelecionadas2019FinalTreinamento['pratica_exercicio'])\n",
    "pequisa2019Pra"
   ]
  },
  {
   "cell_type": "code",
   "execution_count": null,
   "id": "6b6d4275",
   "metadata": {},
   "outputs": [],
   "source": [
    "#Verificação dos valores da coluna Grau Escolaridade\n",
    "df_censoSelecionadas2019FinalTreinamento['grau_escolaridade'].unique()"
   ]
  },
  {
   "cell_type": "code",
   "execution_count": null,
   "id": "989e0bf1",
   "metadata": {},
   "outputs": [],
   "source": [
    "#Verificação dos valores da coluna Estado Civil\n",
    "df_censoSelecionadas2019FinalTreinamento['civil'].unique()"
   ]
  },
  {
   "cell_type": "code",
   "execution_count": null,
   "id": "0be9ff71",
   "metadata": {},
   "outputs": [],
   "source": [
    "#Verificação dos valores da coluna Pratica de Exercicio\n",
    "df_censoSelecionadas2019FinalTreinamento['pratica_exercicio'].unique()"
   ]
  },
  {
   "cell_type": "code",
   "execution_count": null,
   "id": "3c08fd8d",
   "metadata": {},
   "outputs": [],
   "source": [
    "#Primeiras linhas do dataframe df_censoSelecionadas2019Final\n",
    "df_censoSelecionadas2019FinalTreinamento.head()"
   ]
  },
  {
   "cell_type": "code",
   "execution_count": null,
   "id": "2a3b8a37",
   "metadata": {},
   "outputs": [],
   "source": [
    "# Exibe total data frame\n",
    "df_censoSelecionadas2019FinalTreinamento['pratica_exercicio'].value_counts()"
   ]
  },
  {
   "cell_type": "code",
   "execution_count": null,
   "id": "25b604e5",
   "metadata": {},
   "outputs": [],
   "source": [
    "#Importação da função resample da biblioteca sklearn\n",
    "from sklearn.utils import resample"
   ]
  },
  {
   "cell_type": "code",
   "execution_count": null,
   "id": "798076f0",
   "metadata": {},
   "outputs": [],
   "source": [
    "#Criação de um dataframe com entrevistados que não praticam atividade fisica\n",
    "df_censoSelecionadas2019FinalTreinamento_majority = df_censoSelecionadas2019FinalTreinamento[df_censoSelecionadas2019FinalTreinamento.pratica_exercicio==0]\n",
    "df_censoSelecionadas2019FinalTreinamento_majority.info()"
   ]
  },
  {
   "cell_type": "code",
   "execution_count": null,
   "id": "06fb1964",
   "metadata": {
    "scrolled": true
   },
   "outputs": [],
   "source": [
    "#Criação de um dataframe com entrevistados que praticam atividade fisica\n",
    "df_censoSelecionadas2019FinalTreinamento_minority = df_censoSelecionadas2019FinalTreinamento[df_censoSelecionadas2019FinalTreinamento.pratica_exercicio==1]\n",
    "df_censoSelecionadas2019FinalTreinamento_minority.info()"
   ]
  },
  {
   "cell_type": "code",
   "execution_count": null,
   "id": "41ffaa70",
   "metadata": {},
   "outputs": [],
   "source": [
    "#Ajuste no número de entradas do dataframe entrevistados que praticam ativididade fisica\n",
    "df_censoSelecionadas2019FinalTreinamento_minority_upsampled = resample(df_censoSelecionadas2019FinalTreinamento_minority, \n",
    "                                                 replace=True, n_samples=22283, \n",
    "                                                 random_state=123)"
   ]
  },
  {
   "cell_type": "code",
   "execution_count": null,
   "id": "3dc045b1",
   "metadata": {
    "scrolled": true
   },
   "outputs": [],
   "source": [
    "#Informações do dataframe ajustado\n",
    "df_censoSelecionadas2019FinalTreinamento_minority_upsampled.info()"
   ]
  },
  {
   "cell_type": "code",
   "execution_count": null,
   "id": "33c9bd27",
   "metadata": {},
   "outputs": [],
   "source": [
    "#Concatenação dos dataframes de entrevistados que praticam atividade fisica e que não praticam \n",
    "df_censoSelecionadas2019FinalTreinamento_upsampled = pd.concat([df_censoSelecionadas2019FinalTreinamento_majority, \n",
    "                                          df_censoSelecionadas2019FinalTreinamento_minority_upsampled])"
   ]
  },
  {
   "cell_type": "code",
   "execution_count": null,
   "id": "4f4a241c",
   "metadata": {},
   "outputs": [],
   "source": [
    "#Informações do dataframe ajustado\n",
    "df_censoSelecionadas2019FinalTreinamento_upsampled.info()"
   ]
  },
  {
   "cell_type": "code",
   "execution_count": null,
   "id": "8bc9509a",
   "metadata": {},
   "outputs": [],
   "source": [
    "#Contagem dos valores de entrevistados que praticam atividade fisica e que não praticam \n",
    "df_censoSelecionadas2019FinalTreinamento_upsampled['pratica_exercicio'].value_counts()"
   ]
  },
  {
   "cell_type": "code",
   "execution_count": null,
   "id": "3e430060",
   "metadata": {},
   "outputs": [],
   "source": [
    "#Importação da função train_test_split\n",
    "from sklearn.model_selection import train_test_split"
   ]
  },
  {
   "cell_type": "code",
   "execution_count": null,
   "id": "4349632a",
   "metadata": {},
   "outputs": [],
   "source": [
    "#Divisão para as bases de treinamento\n",
    "X_train = df_censoSelecionadas2019FinalTreinamento_upsampled.drop(['pratica_exercicio'], axis = 1)\n",
    "y_train = df_censoSelecionadas2019FinalTreinamento_upsampled.pratica_exercicio"
   ]
  },
  {
   "cell_type": "code",
   "execution_count": null,
   "id": "b5b2b1ee",
   "metadata": {},
   "outputs": [],
   "source": [
    "#Informações do dataframe com os dados para treinamento\n",
    "X_train.info()"
   ]
  },
  {
   "cell_type": "code",
   "execution_count": null,
   "id": "6c218bf4",
   "metadata": {},
   "outputs": [],
   "source": [
    "#Tipo da serie y_train\n",
    "type(y_train)"
   ]
  },
  {
   "cell_type": "code",
   "execution_count": null,
   "id": "25c4bb28",
   "metadata": {},
   "outputs": [],
   "source": [
    "#Criação das bases de teste e treinamento\n",
    "xtreinamento, xteste, ytreinamento, yteste = train_test_split(X_train, y_train, random_state =0)"
   ]
  },
  {
   "cell_type": "code",
   "execution_count": null,
   "id": "43328e67",
   "metadata": {
    "scrolled": true
   },
   "outputs": [],
   "source": [
    "#Informação do dataframe de treinamento\n",
    "xtreinamento.info()"
   ]
  },
  {
   "cell_type": "code",
   "execution_count": null,
   "id": "963f533e",
   "metadata": {},
   "outputs": [],
   "source": [
    "#Informação do dataframe de teste\n",
    "xteste.info()"
   ]
  },
  {
   "cell_type": "code",
   "execution_count": null,
   "id": "3bd48a78",
   "metadata": {},
   "outputs": [],
   "source": [
    "#Contagem dos resultados para treinamento\n",
    "ytreinamento.count()"
   ]
  },
  {
   "cell_type": "code",
   "execution_count": null,
   "id": "0ba9073e",
   "metadata": {},
   "outputs": [],
   "source": [
    "#Contagem dos resultados para teste\n",
    "yteste.count()"
   ]
  },
  {
   "cell_type": "code",
   "execution_count": null,
   "id": "f9272034",
   "metadata": {},
   "outputs": [],
   "source": [
    "#Criação do modelo utilizando a Árvore de decisão\n",
    "from sklearn.tree import DecisionTreeClassifier\n",
    "from sklearn import tree\n",
    "df_censoSelecionadas2019FinalTreinamento_tree = DecisionTreeClassifier(random_state=0)\n",
    "df_censoSelecionadas2019FinalTreinamento_tree = df_censoSelecionadas2019FinalTreinamento_tree.fit(xtreinamento, ytreinamento)\n",
    "print(\"Acurácia: \", df_censoSelecionadas2019FinalTreinamento_tree.score(xtreinamento, ytreinamento))\n",
    "Train_predict = df_censoSelecionadas2019FinalTreinamento_tree.predict(xteste)\n",
    "print(\"Acurácia de previsão: \", accuracy_score(yteste, Train_predict))\n",
    "print(classification_report(yteste, Train_predict))"
   ]
  },
  {
   "cell_type": "code",
   "execution_count": null,
   "id": "db2859ef",
   "metadata": {},
   "outputs": [],
   "source": [
    "# criando modelo arvore\n",
    "classificador_arvore = DecisionTreeClassifier(random_state = 1) \n",
    "classificador_arvore.fit(xtreinamento,ytreinamento)"
   ]
  },
  {
   "cell_type": "code",
   "execution_count": null,
   "id": "cfe76541",
   "metadata": {},
   "outputs": [],
   "source": [
    "predicao_arvore = classificador_arvore.predict(xteste)\n",
    "print(predicao_arvore)"
   ]
  },
  {
   "cell_type": "code",
   "execution_count": null,
   "id": "af8d4bb9",
   "metadata": {},
   "outputs": [],
   "source": [
    "#Gerando matrix de confusão\n",
    "confusao_nb = confusion_matrix(yteste, Train_predict)\n",
    "print(confusao_nb)\n",
    "cmd_arvore = ConfusionMatrixDisplay(confusao_nb, display_labels=classificador_arvore.classes_).plot()"
   ]
  },
  {
   "cell_type": "code",
   "execution_count": null,
   "id": "af60461f",
   "metadata": {},
   "outputs": [],
   "source": [
    "#Criação do modelo utilizando a Regressão Logística\n",
    "from sklearn.linear_model import LogisticRegression\n",
    "lr = LogisticRegression()\n",
    "lr = lr.fit(xtreinamento, ytreinamento)\n",
    "print(\"Acurácia: \", lr.score(xtreinamento, ytreinamento))\n",
    "tp_lr = lr.predict(xteste)\n",
    "print(\"Acurácia de previsão: \", accuracy_score(yteste, tp_lr))\n",
    "print(classification_report(yteste, tp_lr))"
   ]
  },
  {
   "cell_type": "code",
   "execution_count": null,
   "id": "184e33ef",
   "metadata": {},
   "outputs": [],
   "source": [
    "#Validação cruzada para o modelo Regressão Logística\n",
    "from sklearn.model_selection import cross_val_score\n",
    "validacao_arvore = cross_val_score(lr, X_train, y_train, scoring='accuracy', cv=5)\n",
    "print(validacao_arvore.mean())"
   ]
  },
  {
   "cell_type": "code",
   "execution_count": null,
   "id": "b500bda7",
   "metadata": {},
   "outputs": [],
   "source": [
    "#Criação do modelo utilizando Naïve Bayes\n",
    "from sklearn.naive_bayes import GaussianNB\n",
    "nb = GaussianNB()\n",
    "nb = nb.fit(xtreinamento, ytreinamento)\n",
    "print(\"Acurácia: \", nb.score(xtreinamento, ytreinamento))\n",
    "tp_nb = nb.predict(xteste)\n",
    "print(\"Acurácia de previsão: \", accuracy_score(yteste, tp_nb))\n",
    "print(classification_report(yteste, tp_nb))"
   ]
  },
  {
   "cell_type": "code",
   "execution_count": null,
   "id": "d14dd38b",
   "metadata": {},
   "outputs": [],
   "source": [
    "#Validação cruzada para o modelo Naive bayes\n",
    "from sklearn.model_selection import cross_val_score\n",
    "validacao_arvore = cross_val_score(nb, X_train, y_train, scoring='accuracy', cv=5)\n",
    "print(validacao_arvore.mean())\n"
   ]
  },
  {
   "cell_type": "code",
   "execution_count": null,
   "id": "d5615d36",
   "metadata": {},
   "outputs": [],
   "source": [
    "#Criação do modelo utilizando Gradiente Descendente\n",
    "from sklearn.linear_model import SGDClassifier\n",
    "sgd = SGDClassifier()\n",
    "sgd = sgd.fit(xtreinamento, ytreinamento)\n",
    "print(\"Acurácia: \", sgd.score(xtreinamento, ytreinamento))\n",
    "tp_sgd = sgd.predict(xteste)\n",
    "print(\"Acurácia de previsão: \", accuracy_score(yteste, tp_sgd))\n",
    "print(classification_report(yteste, tp_sgd))"
   ]
  },
  {
   "cell_type": "code",
   "execution_count": null,
   "id": "a2eaafac",
   "metadata": {},
   "outputs": [],
   "source": [
    "#Criação do modelo utilizando KNN (K - Nearest Neighbors)\n",
    "from sklearn.neighbors import KNeighborsClassifier\n",
    "knn = KNeighborsClassifier()\n",
    "knn = knn.fit(xtreinamento, ytreinamento)\n",
    "print(\"Acurácia: \", knn.score(xtreinamento, ytreinamento))\n",
    "tp_knn = knn.predict(xteste)\n",
    "print(\"Acurácia de previsão: \", accuracy_score(yteste, tp_knn))\n",
    "print(classification_report(yteste, tp_knn))"
   ]
  },
  {
   "cell_type": "code",
   "execution_count": null,
   "id": "b031ea7b",
   "metadata": {},
   "outputs": [],
   "source": [
    "#Faz a validação cruzada com 5 folds e ao final exibe a média da acurácia\n",
    "validacao_knn = cross_val_score(knn, X_train, y_train, scoring='accuracy', cv=5)\n",
    "print(validacao_knn.mean())"
   ]
  },
  {
   "cell_type": "code",
   "execution_count": null,
   "id": "70572476",
   "metadata": {},
   "outputs": [],
   "source": [
    "#Criação do modelo utilizando Randon Forest \n",
    "from sklearn.ensemble import RandomForestClassifier\n",
    "rfm = RandomForestClassifier()\n",
    "rfm = rfm.fit(xtreinamento, ytreinamento)\n",
    "print(\"Acurácia: \", rfm.score(xtreinamento, ytreinamento))\n",
    "tp_rfm = rfm.predict(xteste)\n",
    "print(\"Acurácia de previsão: \", accuracy_score(yteste, tp_rfm))\n",
    "print(classification_report(yteste, tp_rfm))"
   ]
  },
  {
   "cell_type": "code",
   "execution_count": null,
   "id": "d29af0e3",
   "metadata": {},
   "outputs": [],
   "source": [
    "#Validação cruzada do classificador Random Forest\n",
    "validacao_rf = cross_val_score(rfm, X_train, y_train, scoring='accuracy', cv=5)\n",
    "print(validacao_rf.mean())\n"
   ]
  },
  {
   "cell_type": "code",
   "execution_count": null,
   "id": "7384ac89",
   "metadata": {},
   "outputs": [],
   "source": []
  }
 ],
 "metadata": {
  "kernelspec": {
   "display_name": "Python 3",
   "language": "python",
   "name": "python3"
  },
  "language_info": {
   "codemirror_mode": {
    "name": "ipython",
    "version": 3
   },
   "file_extension": ".py",
   "mimetype": "text/x-python",
   "name": "python",
   "nbconvert_exporter": "python",
   "pygments_lexer": "ipython3",
   "version": "3.8.8"
  }
 },
 "nbformat": 4,
 "nbformat_minor": 5
}
